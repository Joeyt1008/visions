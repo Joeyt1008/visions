{
 "cells": [
  {
   "cell_type": "code",
   "execution_count": 1,
   "metadata": {},
   "outputs": [],
   "source": [
    "import numpy as np\n",
    "from urllib.parse import urlparse, ParseResult\n",
    "import pandas as pd\n",
    "from visions import *\n",
    "import pathlib"
   ]
  },
  {
   "cell_type": "code",
   "execution_count": 4,
   "metadata": {},
   "outputs": [
    {
     "data": {
      "text/plain": [
       "True"
      ]
     },
     "execution_count": 4,
     "metadata": {},
     "output_type": "execute_result"
    }
   ],
   "source": [
    "s = pd.Series(\n",
    "    [\n",
    "        pathlib.Path(\n",
    "            r\"src/visions/visualisation/typesets/typeset_complete.png\"\n",
    "        ).absolute(),\n",
    "        pathlib.Path(\n",
    "            r\"src/visions/visualisation/typesets/typeset_standard.png\"\n",
    "        ).absolute(),\n",
    "        None,\n",
    "        pathlib.Path(\n",
    "            r\"src/visions/visualisation/typesets/typeset_geometry.png\"\n",
    "        ).absolute(),\n",
    "        None,\n",
    "    ],\n",
    "    name=\"image_png_missing\",\n",
    ")\n",
    "s in File"
   ]
  },
  {
   "cell_type": "code",
   "execution_count": 6,
   "metadata": {},
   "outputs": [
    {
     "ename": "TypeError",
     "evalue": "inner() missing 1 required positional argument: 'series'",
     "output_type": "error",
     "traceback": [
      "\u001b[0;31m---------------------------------------------------------------------------\u001b[0m",
      "\u001b[0;31mTypeError\u001b[0m                                 Traceback (most recent call last)",
      "\u001b[0;32m<ipython-input-6-2ee107fe5d58>\u001b[0m in \u001b[0;36m<module>\u001b[0;34m\u001b[0m\n\u001b[1;32m      2\u001b[0m \u001b[0;34m\u001b[0m\u001b[0m\n\u001b[1;32m      3\u001b[0m \u001b[0;34m@\u001b[0m\u001b[0mnullable_series_contains\u001b[0m\u001b[0;34m(\u001b[0m\u001b[0;32mNone\u001b[0m\u001b[0;34m)\u001b[0m\u001b[0;34m\u001b[0m\u001b[0;34m\u001b[0m\u001b[0m\n\u001b[0;32m----> 4\u001b[0;31m \u001b[0;32mdef\u001b[0m \u001b[0mt\u001b[0m\u001b[0;34m(\u001b[0m\u001b[0ms\u001b[0m\u001b[0;34m)\u001b[0m\u001b[0;34m:\u001b[0m\u001b[0;34m\u001b[0m\u001b[0;34m\u001b[0m\u001b[0m\n\u001b[0m\u001b[1;32m      5\u001b[0m     \u001b[0;32mreturn\u001b[0m \u001b[0;32mTrue\u001b[0m\u001b[0;34m\u001b[0m\u001b[0;34m\u001b[0m\u001b[0m\n",
      "\u001b[0;31mTypeError\u001b[0m: inner() missing 1 required positional argument: 'series'"
     ]
    }
   ],
   "source": [
    "from visions.utils.series_utils import nullable_series_contains\n",
    "\n",
    "@nullable_series_contains(None)\n",
    "def t(s):\n",
    "    return True"
   ]
  },
  {
   "cell_type": "code",
   "execution_count": 4,
   "metadata": {},
   "outputs": [
    {
     "data": {
      "text/plain": [
       "True"
      ]
     },
     "execution_count": 4,
     "metadata": {},
     "output_type": "execute_result"
    }
   ],
   "source": [
    "import os\n",
    "os.path.exists(r\"src/visions/visualisation/typesets/typeset_complete.png\")"
   ]
  },
  {
   "cell_type": "code",
   "execution_count": 24,
   "metadata": {},
   "outputs": [
    {
     "name": "stdout",
     "output_type": "stream",
     "text": [
      "CPU times: user 19.9 ms, sys: 4.95 ms, total: 24.8 ms\n",
      "Wall time: 36 ms\n",
      "CPU times: user 54 µs, sys: 1 µs, total: 55 µs\n",
      "Wall time: 58.9 µs\n"
     ]
    },
    {
     "data": {
      "text/plain": [
       "False"
      ]
     },
     "execution_count": 24,
     "metadata": {},
     "output_type": "execute_result"
    }
   ],
   "source": [
    "%time pd.isna(x).all()\n",
    "%time all(pd.isna(i) for i in x)"
   ]
  },
  {
   "cell_type": "code",
   "execution_count": 27,
   "metadata": {},
   "outputs": [
    {
     "data": {
      "text/plain": [
       "<bound method Series.isnull of 0           1.0\n",
       "1           1.0\n",
       "2           1.0\n",
       "3           1.0\n",
       "4           1.0\n",
       "           ... \n",
       "9999996     1.0\n",
       "9999997     1.0\n",
       "9999998     1.0\n",
       "9999999     1.0\n",
       "10000000    NaN\n",
       "Length: 10000001, dtype: float64>"
      ]
     },
     "execution_count": 27,
     "metadata": {},
     "output_type": "execute_result"
    }
   ],
   "source": [
    "x.isnull"
   ]
  },
  {
   "cell_type": "code",
   "execution_count": 28,
   "metadata": {},
   "outputs": [
    {
     "name": "stdout",
     "output_type": "stream",
     "text": [
      "CPU times: user 1.19 s, sys: 14.5 ms, total: 1.21 s\n",
      "Wall time: 1.28 s\n"
     ]
    },
    {
     "data": {
      "text/plain": [
       "{nan, 1.0}"
      ]
     },
     "execution_count": 28,
     "metadata": {},
     "output_type": "execute_result"
    }
   ],
   "source": [
    "%time set(x)"
   ]
  },
  {
   "cell_type": "code",
   "execution_count": 2,
   "metadata": {},
   "outputs": [],
   "source": [
    "series = pd.Series(\n",
    "        [\n",
    "            urlparse(\"http://www.cwi.nl:80/%7Eguido/Python.html\"),\n",
    "            urlparse(\"https://github.com/dylan-profiling/hurricane\"),\n",
    "        ],\n",
    "        name=\"url_nan_series\",\n",
    "    )"
   ]
  },
  {
   "cell_type": "code",
   "execution_count": 3,
   "metadata": {},
   "outputs": [
    {
     "data": {
      "text/plain": [
       "True"
      ]
     },
     "execution_count": 3,
     "metadata": {},
     "output_type": "execute_result"
    }
   ],
   "source": [
    "series in URL"
   ]
  },
  {
   "cell_type": "code",
   "execution_count": null,
   "metadata": {},
   "outputs": [],
   "source": []
  },
  {
   "cell_type": "code",
   "execution_count": 4,
   "metadata": {},
   "outputs": [],
   "source": [
    "def test(series):\n",
    "    if series.hasnans:\n",
    "        series = series.dropna()\n",
    "        if series.empty:\n",
    "            return False\n",
    "        else:\n",
    "            return all(isinstance(x, ParseResult) and all((x.netloc, x.scheme)) for x in series)"
   ]
  },
  {
   "cell_type": "code",
   "execution_count": 5,
   "metadata": {},
   "outputs": [],
   "source": [
    "test(series)"
   ]
  },
  {
   "cell_type": "code",
   "execution_count": 6,
   "metadata": {},
   "outputs": [],
   "source": [
    "from typing import Sequence\n",
    "\n",
    "import pandas.api.types as pdt\n",
    "import numpy as np\n",
    "import pandas as pd\n",
    "\n",
    "from visions.relations import IdentityRelation, InferenceRelation, TypeRelation\n",
    "from visions.types import VisionsBaseType\n",
    "from visions.utils.coercion import test_utils\n",
    "from visions.utils.warning_handling import suppress_warnings\n",
    "from visions.types import VisionsBaseType\n",
    "class Float(VisionsBaseType):\n",
    "    \"\"\"**Float** implementation of :class:`visions.types.type.VisionsBaseType`.\n",
    "\n",
    "    Examples:\n",
    "        >>> x = pd.Series([1.0, 2.5, 5.0, np.nan])\n",
    "        >>> x in visions.Float\n",
    "        True\n",
    "    \"\"\"\n",
    "\n",
    "    @classmethod\n",
    "    def get_relations(cls) -> Sequence[TypeRelation]:\n",
    "        return _get_relations(cls)\n",
    "\n",
    "    @classmethod\n",
    "    def contains_op(cls, series: pd.Series) -> bool:\n",
    "        return pdt.is_float_dtype(series)\n",
    "\n",
    "def to_float(series: pd.Series) -> pd.Series:\n",
    "    return series.astype(float)\n",
    "\n",
    "def test_string_is_float(series) -> bool:\n",
    "    coerced_series = test_utils.option_coercion_evaluator(string_to_float)(series)\n",
    "    return coerced_series is not None and coerced_series in Float\n",
    "\n",
    "\n",
    "def string_to_float(series: pd.Series) -> pd.Series:\n",
    "    if any(',' in x for x in series.dropna()):\n",
    "        series = series.str.replace(',', '')\n",
    "\n",
    "    return to_float(series)"
   ]
  },
  {
   "cell_type": "code",
   "execution_count": 7,
   "metadata": {},
   "outputs": [
    {
     "data": {
      "text/plain": [
       "0       1000.0\n",
       "1    2000000.0\n",
       "Name: string_with_sep_int_series, dtype: float64"
      ]
     },
     "execution_count": 7,
     "metadata": {},
     "output_type": "execute_result"
    }
   ],
   "source": [
    "from visions import StandardSet\n",
    "import visions\n",
    "from visions import *\n",
    "\n",
    "typeset = StandardSet()\n",
    "\n",
    "series = pd.Series(['1,000', '2,000,000'], name='string_with_sep_int_series')\n",
    "\n",
    "string_to_float(series)"
   ]
  },
  {
   "cell_type": "code",
   "execution_count": 8,
   "metadata": {},
   "outputs": [
    {
     "data": {
      "text/plain": [
       "String"
      ]
     },
     "execution_count": 8,
     "metadata": {},
     "output_type": "execute_result"
    }
   ],
   "source": [
    "typeset.infer_series_type(series)"
   ]
  },
  {
   "cell_type": "code",
   "execution_count": 9,
   "metadata": {},
   "outputs": [
    {
     "data": {
      "text/plain": [
       "String"
      ]
     },
     "execution_count": 9,
     "metadata": {},
     "output_type": "execute_result"
    }
   ],
   "source": [
    "typeset.detect_series_type(series)"
   ]
  },
  {
   "cell_type": "code",
   "execution_count": 10,
   "metadata": {},
   "outputs": [
    {
     "data": {
      "text/plain": [
       "False"
      ]
     },
     "execution_count": 10,
     "metadata": {},
     "output_type": "execute_result"
    }
   ],
   "source": [
    "typeset.relation_graph[String][Float]['relationship'].relationship(series)"
   ]
  },
  {
   "cell_type": "code",
   "execution_count": 11,
   "metadata": {},
   "outputs": [
    {
     "data": {
      "text/plain": [
       "True"
      ]
     },
     "execution_count": 11,
     "metadata": {},
     "output_type": "execute_result"
    }
   ],
   "source": [
    "test_string_is_float(series)"
   ]
  },
  {
   "cell_type": "code",
   "execution_count": 14,
   "metadata": {},
   "outputs": [
    {
     "ename": "ValueError",
     "evalue": "Types cannot be initialized",
     "output_type": "error",
     "traceback": [
      "\u001b[0;31m---------------------------------------------------------------------------\u001b[0m",
      "\u001b[0;31mValueError\u001b[0m                                Traceback (most recent call last)",
      "\u001b[0;32m<ipython-input-14-ab7b7bec726a>\u001b[0m in \u001b[0;36m<module>\u001b[0;34m\u001b[0m\n\u001b[0;32m----> 1\u001b[0;31m \u001b[0mInteger\u001b[0m\u001b[0;34m(\u001b[0m\u001b[0;34m)\u001b[0m\u001b[0;34m.\u001b[0m\u001b[0mrelations\u001b[0m\u001b[0;34m\u001b[0m\u001b[0;34m\u001b[0m\u001b[0m\n\u001b[0m",
      "\u001b[0;32m~/repos/dylan-profiling/visions/src/visions/types/type.py\u001b[0m in \u001b[0;36m__init__\u001b[0;34m(self)\u001b[0m\n\u001b[1;32m     38\u001b[0m \u001b[0;34m\u001b[0m\u001b[0m\n\u001b[1;32m     39\u001b[0m     \u001b[0;32mdef\u001b[0m \u001b[0m__init__\u001b[0m\u001b[0;34m(\u001b[0m\u001b[0mself\u001b[0m\u001b[0;34m)\u001b[0m\u001b[0;34m:\u001b[0m\u001b[0;34m\u001b[0m\u001b[0;34m\u001b[0m\u001b[0m\n\u001b[0;32m---> 40\u001b[0;31m         \u001b[0;32mraise\u001b[0m \u001b[0mValueError\u001b[0m\u001b[0;34m(\u001b[0m\u001b[0;34m\"Types cannot be initialized\"\u001b[0m\u001b[0;34m)\u001b[0m\u001b[0;34m\u001b[0m\u001b[0;34m\u001b[0m\u001b[0m\n\u001b[0m\u001b[1;32m     41\u001b[0m \u001b[0;34m\u001b[0m\u001b[0m\n\u001b[1;32m     42\u001b[0m     \u001b[0;34m@\u001b[0m\u001b[0mclassmethod\u001b[0m\u001b[0;34m\u001b[0m\u001b[0;34m\u001b[0m\u001b[0m\n",
      "\u001b[0;31mValueError\u001b[0m: Types cannot be initialized"
     ]
    }
   ],
   "source": [
    "Integer().relations"
   ]
  },
  {
   "cell_type": "code",
   "execution_count": 200,
   "metadata": {},
   "outputs": [],
   "source": [
    "import timeit\n",
    "import numpy as np\n",
    "import pandas as pd\n",
    "\n",
    "class type_profiler:\n",
    "    def __init__(self, type, detection_data, sequence_count=10000):\n",
    "        self.type = type\n",
    "        self.detection_data = detection_data\n",
    "        self.sequence_count = sequence_count\n",
    "\n",
    "    def profile_detection(self):\n",
    "        runs = {}\n",
    "        for key, data in self.detection_data.items():\n",
    "            time = timeit.timeit(lambda: data in self.type, number=self.sequence_count)\n",
    "            runs[key] = time / self.sequence_count\n",
    "        return runs\n",
    "\n",
    "def profile_type(dtype, profile_data, run_count=1000):\n",
    "    return {name: timeit.timeit(lambda: data in dtype, number=run_count) / run_count\n",
    "            for name, data in profile_data.items()}"
   ]
  },
  {
   "cell_type": "code",
   "execution_count": 201,
   "metadata": {},
   "outputs": [
    {
     "data": {
      "text/plain": [
       "{'a': 4.502749001403572e-06}"
      ]
     },
     "execution_count": 201,
     "metadata": {},
     "output_type": "execute_result"
    }
   ],
   "source": [
    "from visions.tests"
   ]
  },
  {
   "cell_type": "code",
   "execution_count": 92,
   "metadata": {},
   "outputs": [
    {
     "data": {
      "text/plain": [
       "{'a': 4.661919190002664e-06}"
      ]
     },
     "execution_count": 92,
     "metadata": {},
     "output_type": "execute_result"
    }
   ],
   "source": [
    "detection = {'a': pd.Series([1,2,3,4])}\n",
    "tp = type_profiler(Integer, detection, 100000)\n",
    "tp.profile_detection()"
   ]
  },
  {
   "cell_type": "code",
   "execution_count": 141,
   "metadata": {},
   "outputs": [],
   "source": [
    "from collections import Counter\n",
    "from bounter import bounter"
   ]
  },
  {
   "cell_type": "code",
   "execution_count": 189,
   "metadata": {},
   "outputs": [],
   "source": [
    "s = pd.Series(['1', '2', '3']*1000)"
   ]
  },
  {
   "cell_type": "code",
   "execution_count": 190,
   "metadata": {},
   "outputs": [
    {
     "name": "stdout",
     "output_type": "stream",
     "text": [
      "33.7 ms ± 798 µs per loop (mean ± std. dev. of 7 runs, 10 loops each)\n"
     ]
    }
   ],
   "source": [
    "\n",
    "%timeit Counter(s)"
   ]
  },
  {
   "cell_type": "code",
   "execution_count": 197,
   "metadata": {},
   "outputs": [
    {
     "name": "stdout",
     "output_type": "stream",
     "text": [
      "266 ms ± 10.7 ms per loop (mean ± std. dev. of 7 runs, 10 loops each)\n"
     ]
    }
   ],
   "source": [
    "def f(s):\n",
    "    bount = bounter(size_mb=1024, need_iteration=False)\n",
    "    bount.update(i for i in s)\n",
    "    return bount\n",
    "    \n",
    "%timeit f(s)"
   ]
  },
  {
   "cell_type": "code",
   "execution_count": 194,
   "metadata": {},
   "outputs": [],
   "source": [
    "x = f(s)"
   ]
  },
  {
   "cell_type": "code",
   "execution_count": 196,
   "metadata": {},
   "outputs": [
    {
     "data": {
      "text/plain": [
       "300000"
      ]
     },
     "execution_count": 196,
     "metadata": {},
     "output_type": "execute_result"
    }
   ],
   "source": [
    "x.total()"
   ]
  },
  {
   "cell_type": "code",
   "execution_count": 164,
   "metadata": {},
   "outputs": [
    {
     "name": "stdout",
     "output_type": "stream",
     "text": [
      "8.27 ms ± 757 µs per loop (mean ± std. dev. of 7 runs, 100 loops each)\n"
     ]
    }
   ],
   "source": [
    "%timeit s.value_counts().to_dict()"
   ]
  },
  {
   "cell_type": "code",
   "execution_count": 167,
   "metadata": {},
   "outputs": [
    {
     "data": {
      "text/plain": [
       "{6: 200000, 2: 200000, 1: 200000, 5: 100000, 4: 100000, 3: 100000}"
      ]
     },
     "execution_count": 167,
     "metadata": {},
     "output_type": "execute_result"
    }
   ],
   "source": [
    "s.value_counts().to_dict()"
   ]
  },
  {
   "cell_type": "code",
   "execution_count": 174,
   "metadata": {},
   "outputs": [
    {
     "data": {
      "text/plain": [
       "[(1, 200000), (2, 200000), (3, 100000), (4, 100000), (5, 100000), (6, 200000)]"
      ]
     },
     "execution_count": 174,
     "metadata": {},
     "output_type": "execute_result"
    }
   ],
   "source": [
    "sorted(tuple(dict(zip(*np.unique(s, return_counts=True))).items()))"
   ]
  },
  {
   "cell_type": "code",
   "execution_count": 165,
   "metadata": {},
   "outputs": [
    {
     "name": "stdout",
     "output_type": "stream",
     "text": [
      "16.9 ms ± 643 µs per loop (mean ± std. dev. of 7 runs, 100 loops each)\n"
     ]
    }
   ],
   "source": [
    "%timeit dict(zip(*np.unique(s, return_counts=True)))"
   ]
  },
  {
   "cell_type": "code",
   "execution_count": 121,
   "metadata": {},
   "outputs": [],
   "source": [
    "x = pd.Series([1+2j, 1, 2,3, np.nan, 'purple'])\n",
    "\n"
   ]
  },
  {
   "cell_type": "code",
   "execution_count": 116,
   "metadata": {},
   "outputs": [
    {
     "name": "stdout",
     "output_type": "stream",
     "text": [
      "3.72 ms ± 197 µs per loop (mean ± std. dev. of 7 runs, 100 loops each)\n"
     ]
    }
   ],
   "source": [
    "%timeit x.nunique(dropna=True)"
   ]
  },
  {
   "cell_type": "code",
   "execution_count": 112,
   "metadata": {},
   "outputs": [
    {
     "name": "stdout",
     "output_type": "stream",
     "text": [
      "40.8 ms ± 724 µs per loop (mean ± std. dev. of 7 runs, 10 loops each)\n"
     ]
    }
   ],
   "source": [
    "%timeit len(set(x[x.notna()].values))"
   ]
  },
  {
   "cell_type": "code",
   "execution_count": 122,
   "metadata": {},
   "outputs": [
    {
     "data": {
      "text/plain": [
       "5"
      ]
     },
     "execution_count": 122,
     "metadata": {},
     "output_type": "execute_result"
    }
   ],
   "source": [
    "x.nunique(dropna=True)"
   ]
  },
  {
   "cell_type": "code",
   "execution_count": 7,
   "metadata": {},
   "outputs": [
    {
     "ename": "ModuleNotFoundError",
     "evalue": "No module named 'tests.timings'",
     "output_type": "error",
     "traceback": [
      "\u001b[0;31m---------------------------------------------------------------------------\u001b[0m",
      "\u001b[0;31mModuleNotFoundError\u001b[0m                       Traceback (most recent call last)",
      "\u001b[0;32m<ipython-input-7-e91d445b96d6>\u001b[0m in \u001b[0;36m<module>\u001b[0;34m\u001b[0m\n\u001b[0;32m----> 1\u001b[0;31m \u001b[0;32mfrom\u001b[0m \u001b[0mtests\u001b[0m\u001b[0;34m.\u001b[0m\u001b[0mtimings\u001b[0m \u001b[0;32mimport\u001b[0m \u001b[0mperformance_report\u001b[0m\u001b[0;34m,\u001b[0m \u001b[0mrelations_is_relation_test\u001b[0m\u001b[0;34m,\u001b[0m \u001b[0mrelations_transform_test\u001b[0m\u001b[0;34m\u001b[0m\u001b[0;34m\u001b[0m\u001b[0m\n\u001b[0m\u001b[1;32m      2\u001b[0m \u001b[0;32mimport\u001b[0m \u001b[0mpandas\u001b[0m \u001b[0;32mas\u001b[0m \u001b[0mpd\u001b[0m\u001b[0;34m\u001b[0m\u001b[0;34m\u001b[0m\u001b[0m\n",
      "\u001b[0;31mModuleNotFoundError\u001b[0m: No module named 'tests.timings'"
     ]
    }
   ],
   "source": [
    "from tests.timings import performance_report, relations_is_relation_test, relations_transform_test\n",
    "import pandas as pd"
   ]
  },
  {
   "cell_type": "code",
   "execution_count": 2,
   "metadata": {},
   "outputs": [
    {
     "name": "stdout",
     "output_type": "stream",
     "text": [
      "CPU times: user 13.9 s, sys: 311 ms, total: 14.2 s\n",
      "Wall time: 16 s\n"
     ]
    }
   ],
   "source": [
    "%%time\n",
    "df = performance_report()\n",
    "#df[\"type\"] = df[\"type\"].astype(str)"
   ]
  },
  {
   "cell_type": "code",
   "execution_count": 2,
   "metadata": {},
   "outputs": [
    {
     "name": "stdout",
     "output_type": "stream",
     "text": [
      "CPU times: user 17.9 s, sys: 280 ms, total: 18.2 s\n",
      "Wall time: 18.4 s\n"
     ]
    }
   ],
   "source": [
    "%%time \n",
    "df = relations_is_relation_test()"
   ]
  },
  {
   "cell_type": "code",
   "execution_count": 2,
   "metadata": {},
   "outputs": [
    {
     "name": "stdout",
     "output_type": "stream",
     "text": [
      "CPU times: user 17.5 s, sys: 319 ms, total: 17.9 s\n",
      "Wall time: 18 s\n"
     ]
    }
   ],
   "source": [
    "%%time \n",
    "df = relations_transform_test()"
   ]
  },
  {
   "cell_type": "code",
   "execution_count": 3,
   "metadata": {},
   "outputs": [
    {
     "data": {
      "text/html": [
       "<div>\n",
       "<style scoped>\n",
       "    .dataframe tbody tr th:only-of-type {\n",
       "        vertical-align: middle;\n",
       "    }\n",
       "\n",
       "    .dataframe tbody tr th {\n",
       "        vertical-align: top;\n",
       "    }\n",
       "\n",
       "    .dataframe thead th {\n",
       "        text-align: right;\n",
       "    }\n",
       "</style>\n",
       "<table border=\"1\" class=\"dataframe\">\n",
       "  <thead>\n",
       "    <tr style=\"text-align: right;\">\n",
       "      <th></th>\n",
       "      <th>relation</th>\n",
       "      <th>count</th>\n",
       "      <th>mean</th>\n",
       "      <th>std</th>\n",
       "      <th>min</th>\n",
       "      <th>25%</th>\n",
       "      <th>50%</th>\n",
       "      <th>75%</th>\n",
       "      <th>max</th>\n",
       "      <th>worst series</th>\n",
       "      <th>best series</th>\n",
       "      <th>worst big O</th>\n",
       "      <th>best big O</th>\n",
       "    </tr>\n",
       "  </thead>\n",
       "  <tbody>\n",
       "    <tr>\n",
       "      <th>0</th>\n",
       "      <td>Integer-&gt;Boolean</td>\n",
       "      <td>1.0</td>\n",
       "      <td>1.000000</td>\n",
       "      <td>NaN</td>\n",
       "      <td>1.000000</td>\n",
       "      <td>1.000000</td>\n",
       "      <td>1.000000</td>\n",
       "      <td>1.000000</td>\n",
       "      <td>1.000000</td>\n",
       "      <td>int_series_boolean</td>\n",
       "      <td>int_series_boolean</td>\n",
       "      <td>Constant: time = 0.00059 (sec)</td>\n",
       "      <td>Constant: time = 0.00059 (sec)</td>\n",
       "    </tr>\n",
       "    <tr>\n",
       "      <th>1</th>\n",
       "      <td>String-&gt;UUID</td>\n",
       "      <td>1.0</td>\n",
       "      <td>1.024578</td>\n",
       "      <td>NaN</td>\n",
       "      <td>1.024578</td>\n",
       "      <td>1.024578</td>\n",
       "      <td>1.024578</td>\n",
       "      <td>1.024578</td>\n",
       "      <td>1.024578</td>\n",
       "      <td>uuid_series_str</td>\n",
       "      <td>uuid_series_str</td>\n",
       "      <td>Linear: time = -0.00034 + 1.9E-06*n (sec)</td>\n",
       "      <td>Linear: time = -0.00034 + 1.9E-06*n (sec)</td>\n",
       "    </tr>\n",
       "    <tr>\n",
       "      <th>2</th>\n",
       "      <td>String-&gt;IPAddress</td>\n",
       "      <td>1.0</td>\n",
       "      <td>1.063614</td>\n",
       "      <td>NaN</td>\n",
       "      <td>1.063614</td>\n",
       "      <td>1.063614</td>\n",
       "      <td>1.063614</td>\n",
       "      <td>1.063614</td>\n",
       "      <td>1.063614</td>\n",
       "      <td>ip_str</td>\n",
       "      <td>ip_str</td>\n",
       "      <td>Linear: time = 0.00046 + 3.1E-06*n (sec)</td>\n",
       "      <td>Linear: time = 0.00046 + 3.1E-06*n (sec)</td>\n",
       "    </tr>\n",
       "    <tr>\n",
       "      <th>3</th>\n",
       "      <td>String-&gt;Complex</td>\n",
       "      <td>1.0</td>\n",
       "      <td>1.084819</td>\n",
       "      <td>NaN</td>\n",
       "      <td>1.084819</td>\n",
       "      <td>1.084819</td>\n",
       "      <td>1.084819</td>\n",
       "      <td>1.084819</td>\n",
       "      <td>1.084819</td>\n",
       "      <td>str_complex</td>\n",
       "      <td>str_complex</td>\n",
       "      <td>Linear: time = 0.00025 + 2.4E-07*n (sec)</td>\n",
       "      <td>Linear: time = 0.00025 + 2.4E-07*n (sec)</td>\n",
       "    </tr>\n",
       "    <tr>\n",
       "      <th>4</th>\n",
       "      <td>String-&gt;Geometry</td>\n",
       "      <td>1.0</td>\n",
       "      <td>1.146506</td>\n",
       "      <td>NaN</td>\n",
       "      <td>1.146506</td>\n",
       "      <td>1.146506</td>\n",
       "      <td>1.146506</td>\n",
       "      <td>1.146506</td>\n",
       "      <td>1.146506</td>\n",
       "      <td>geometry_string_series</td>\n",
       "      <td>geometry_string_series</td>\n",
       "      <td>Linear: time = -0.00047 + 1.3E-05*n (sec)</td>\n",
       "      <td>Linear: time = -0.00047 + 1.3E-05*n (sec)</td>\n",
       "    </tr>\n",
       "    <tr>\n",
       "      <th>5</th>\n",
       "      <td>Object-&gt;Boolean</td>\n",
       "      <td>1.0</td>\n",
       "      <td>1.213976</td>\n",
       "      <td>NaN</td>\n",
       "      <td>1.213976</td>\n",
       "      <td>1.213976</td>\n",
       "      <td>1.213976</td>\n",
       "      <td>1.213976</td>\n",
       "      <td>1.213976</td>\n",
       "      <td>bool_nan_series</td>\n",
       "      <td>bool_nan_series</td>\n",
       "      <td>Linear: time = 0.00098 + 1.5E-07*n (sec)</td>\n",
       "      <td>Linear: time = 0.00098 + 1.5E-07*n (sec)</td>\n",
       "    </tr>\n",
       "    <tr>\n",
       "      <th>6</th>\n",
       "      <td>String-&gt;URL</td>\n",
       "      <td>1.0</td>\n",
       "      <td>1.248675</td>\n",
       "      <td>NaN</td>\n",
       "      <td>1.248675</td>\n",
       "      <td>1.248675</td>\n",
       "      <td>1.248675</td>\n",
       "      <td>1.248675</td>\n",
       "      <td>1.248675</td>\n",
       "      <td>str_url</td>\n",
       "      <td>str_url</td>\n",
       "      <td>Linear: time = 0.00016 + 2.2E-06*n (sec)</td>\n",
       "      <td>Linear: time = 0.00016 + 2.2E-06*n (sec)</td>\n",
       "    </tr>\n",
       "    <tr>\n",
       "      <th>7</th>\n",
       "      <td>String-&gt;DateTime</td>\n",
       "      <td>2.0</td>\n",
       "      <td>1.270602</td>\n",
       "      <td>0.093031</td>\n",
       "      <td>1.204819</td>\n",
       "      <td>1.237711</td>\n",
       "      <td>1.270602</td>\n",
       "      <td>1.303494</td>\n",
       "      <td>1.336386</td>\n",
       "      <td>string_date</td>\n",
       "      <td>timestamp_string_series</td>\n",
       "      <td>Linear: time = 0.0011 + 9.3E-08*n (sec)</td>\n",
       "      <td>Quadratic: time = 0.0028 + 9.6E-13*n^2 (sec)</td>\n",
       "    </tr>\n",
       "    <tr>\n",
       "      <th>8</th>\n",
       "      <td>String-&gt;Float</td>\n",
       "      <td>7.0</td>\n",
       "      <td>1.291084</td>\n",
       "      <td>0.102997</td>\n",
       "      <td>1.164819</td>\n",
       "      <td>1.224337</td>\n",
       "      <td>1.283855</td>\n",
       "      <td>1.330843</td>\n",
       "      <td>1.478554</td>\n",
       "      <td>int_str_range</td>\n",
       "      <td>textual_float_nan</td>\n",
       "      <td>Linear: time = 0.00023 + 7.8E-08*n (sec)</td>\n",
       "      <td>Linear: time = 0.00023 + 7.8E-08*n (sec)</td>\n",
       "    </tr>\n",
       "    <tr>\n",
       "      <th>9</th>\n",
       "      <td>Float-&gt;Integer</td>\n",
       "      <td>2.0</td>\n",
       "      <td>1.365783</td>\n",
       "      <td>0.083830</td>\n",
       "      <td>1.306506</td>\n",
       "      <td>1.336145</td>\n",
       "      <td>1.365783</td>\n",
       "      <td>1.395422</td>\n",
       "      <td>1.425060</td>\n",
       "      <td>float_series2</td>\n",
       "      <td>int_nan_series</td>\n",
       "      <td>Constant: time = 0.00032 (sec)</td>\n",
       "      <td>Linear: time = 0.00022 + 2.4E-08*n (sec)</td>\n",
       "    </tr>\n",
       "    <tr>\n",
       "      <th>10</th>\n",
       "      <td>String-&gt;Path</td>\n",
       "      <td>2.0</td>\n",
       "      <td>1.422892</td>\n",
       "      <td>0.161186</td>\n",
       "      <td>1.308916</td>\n",
       "      <td>1.365904</td>\n",
       "      <td>1.422892</td>\n",
       "      <td>1.479880</td>\n",
       "      <td>1.536867</td>\n",
       "      <td>path_series_linux_str</td>\n",
       "      <td>path_series_windows_str</td>\n",
       "      <td>Linear: time = -0.00034 + 8.5E-06*n (sec)</td>\n",
       "      <td>Linear: time = -0.00034 + 8.5E-06*n (sec)</td>\n",
       "    </tr>\n",
       "    <tr>\n",
       "      <th>11</th>\n",
       "      <td>String-&gt;Boolean</td>\n",
       "      <td>1.0</td>\n",
       "      <td>1.445301</td>\n",
       "      <td>NaN</td>\n",
       "      <td>1.445301</td>\n",
       "      <td>1.445301</td>\n",
       "      <td>1.445301</td>\n",
       "      <td>1.445301</td>\n",
       "      <td>1.445301</td>\n",
       "      <td>string_bool_nan</td>\n",
       "      <td>string_bool_nan</td>\n",
       "      <td>Linear: time = 0.0016 + 5.6E-07*n (sec)</td>\n",
       "      <td>Linear: time = 0.0016 + 5.6E-07*n (sec)</td>\n",
       "    </tr>\n",
       "    <tr>\n",
       "      <th>12</th>\n",
       "      <td>Complex-&gt;Float</td>\n",
       "      <td>1.0</td>\n",
       "      <td>1.581687</td>\n",
       "      <td>NaN</td>\n",
       "      <td>1.581687</td>\n",
       "      <td>1.581687</td>\n",
       "      <td>1.581687</td>\n",
       "      <td>1.581687</td>\n",
       "      <td>1.581687</td>\n",
       "      <td>complex_series_float</td>\n",
       "      <td>complex_series_float</td>\n",
       "      <td>Constant: time = 0.0004 (sec)</td>\n",
       "      <td>Constant: time = 0.0004 (sec)</td>\n",
       "    </tr>\n",
       "  </tbody>\n",
       "</table>\n",
       "</div>"
      ],
      "text/plain": [
       "             relation  count      mean       std       min       25%  \\\n",
       "0    Integer->Boolean    1.0  1.000000       NaN  1.000000  1.000000   \n",
       "1        String->UUID    1.0  1.024578       NaN  1.024578  1.024578   \n",
       "2   String->IPAddress    1.0  1.063614       NaN  1.063614  1.063614   \n",
       "3     String->Complex    1.0  1.084819       NaN  1.084819  1.084819   \n",
       "4    String->Geometry    1.0  1.146506       NaN  1.146506  1.146506   \n",
       "5     Object->Boolean    1.0  1.213976       NaN  1.213976  1.213976   \n",
       "6         String->URL    1.0  1.248675       NaN  1.248675  1.248675   \n",
       "7    String->DateTime    2.0  1.270602  0.093031  1.204819  1.237711   \n",
       "8       String->Float    7.0  1.291084  0.102997  1.164819  1.224337   \n",
       "9      Float->Integer    2.0  1.365783  0.083830  1.306506  1.336145   \n",
       "10       String->Path    2.0  1.422892  0.161186  1.308916  1.365904   \n",
       "11    String->Boolean    1.0  1.445301       NaN  1.445301  1.445301   \n",
       "12     Complex->Float    1.0  1.581687       NaN  1.581687  1.581687   \n",
       "\n",
       "         50%       75%       max            worst series  \\\n",
       "0   1.000000  1.000000  1.000000      int_series_boolean   \n",
       "1   1.024578  1.024578  1.024578         uuid_series_str   \n",
       "2   1.063614  1.063614  1.063614                  ip_str   \n",
       "3   1.084819  1.084819  1.084819             str_complex   \n",
       "4   1.146506  1.146506  1.146506  geometry_string_series   \n",
       "5   1.213976  1.213976  1.213976         bool_nan_series   \n",
       "6   1.248675  1.248675  1.248675                 str_url   \n",
       "7   1.270602  1.303494  1.336386             string_date   \n",
       "8   1.283855  1.330843  1.478554           int_str_range   \n",
       "9   1.365783  1.395422  1.425060           float_series2   \n",
       "10  1.422892  1.479880  1.536867   path_series_linux_str   \n",
       "11  1.445301  1.445301  1.445301         string_bool_nan   \n",
       "12  1.581687  1.581687  1.581687    complex_series_float   \n",
       "\n",
       "                best series                                worst big O  \\\n",
       "0        int_series_boolean             Constant: time = 0.00059 (sec)   \n",
       "1           uuid_series_str  Linear: time = -0.00034 + 1.9E-06*n (sec)   \n",
       "2                    ip_str   Linear: time = 0.00046 + 3.1E-06*n (sec)   \n",
       "3               str_complex   Linear: time = 0.00025 + 2.4E-07*n (sec)   \n",
       "4    geometry_string_series  Linear: time = -0.00047 + 1.3E-05*n (sec)   \n",
       "5           bool_nan_series   Linear: time = 0.00098 + 1.5E-07*n (sec)   \n",
       "6                   str_url   Linear: time = 0.00016 + 2.2E-06*n (sec)   \n",
       "7   timestamp_string_series    Linear: time = 0.0011 + 9.3E-08*n (sec)   \n",
       "8         textual_float_nan   Linear: time = 0.00023 + 7.8E-08*n (sec)   \n",
       "9            int_nan_series             Constant: time = 0.00032 (sec)   \n",
       "10  path_series_windows_str  Linear: time = -0.00034 + 8.5E-06*n (sec)   \n",
       "11          string_bool_nan    Linear: time = 0.0016 + 5.6E-07*n (sec)   \n",
       "12     complex_series_float              Constant: time = 0.0004 (sec)   \n",
       "\n",
       "                                      best big O  \n",
       "0                 Constant: time = 0.00059 (sec)  \n",
       "1      Linear: time = -0.00034 + 1.9E-06*n (sec)  \n",
       "2       Linear: time = 0.00046 + 3.1E-06*n (sec)  \n",
       "3       Linear: time = 0.00025 + 2.4E-07*n (sec)  \n",
       "4      Linear: time = -0.00047 + 1.3E-05*n (sec)  \n",
       "5       Linear: time = 0.00098 + 1.5E-07*n (sec)  \n",
       "6       Linear: time = 0.00016 + 2.2E-06*n (sec)  \n",
       "7   Quadratic: time = 0.0028 + 9.6E-13*n^2 (sec)  \n",
       "8       Linear: time = 0.00023 + 7.8E-08*n (sec)  \n",
       "9       Linear: time = 0.00022 + 2.4E-08*n (sec)  \n",
       "10     Linear: time = -0.00034 + 8.5E-06*n (sec)  \n",
       "11       Linear: time = 0.0016 + 5.6E-07*n (sec)  \n",
       "12                 Constant: time = 0.0004 (sec)  "
      ]
     },
     "execution_count": 3,
     "metadata": {},
     "output_type": "execute_result"
    }
   ],
   "source": [
    "df"
   ]
  },
  {
   "cell_type": "code",
   "execution_count": 40,
   "metadata": {},
   "outputs": [],
   "source": [
    "back_df = df.copy()"
   ]
  },
  {
   "cell_type": "code",
   "execution_count": 49,
   "metadata": {},
   "outputs": [],
   "source": [
    "df = back_df.copy()\n",
    "aggs = ['min', 'max']\n",
    "agg_labels = ['worst', 'best']\n",
    "summary_cols = ['series', 'big O']\n",
    "agg_df = df.groupby('type').agg(aggs).reset_index()[['type'] + summary_cols]\n",
    "agg_df.columns = ['_'.join(col).strip('_') for col in agg_df.columns]\n",
    "colrenames = {f'{name}_{agg}': f'{rename} {name}' for name in summary_cols for agg, rename in zip(aggs, agg_labels)}\n",
    "agg_df.rename(columns=colrenames, inplace=True)\n",
    "df[\"normed run time\"] = df[\"average run time\"] / df[\"average run time\"].min()\n",
    "df = df.groupby(\"type\")[\"normed run time\"].describe().sort_values(\"50%\")\n",
    "df = pd.merge(df, agg_df, on=\"type\", how=\"left\")"
   ]
  },
  {
   "cell_type": "code",
   "execution_count": 50,
   "metadata": {},
   "outputs": [
    {
     "data": {
      "text/html": [
       "<div>\n",
       "<style scoped>\n",
       "    .dataframe tbody tr th:only-of-type {\n",
       "        vertical-align: middle;\n",
       "    }\n",
       "\n",
       "    .dataframe tbody tr th {\n",
       "        vertical-align: top;\n",
       "    }\n",
       "\n",
       "    .dataframe thead th {\n",
       "        text-align: right;\n",
       "    }\n",
       "</style>\n",
       "<table border=\"1\" class=\"dataframe\">\n",
       "  <thead>\n",
       "    <tr style=\"text-align: right;\">\n",
       "      <th></th>\n",
       "      <th>type</th>\n",
       "      <th>count</th>\n",
       "      <th>mean</th>\n",
       "      <th>std</th>\n",
       "      <th>min</th>\n",
       "      <th>25%</th>\n",
       "      <th>50%</th>\n",
       "      <th>75%</th>\n",
       "      <th>max</th>\n",
       "      <th>worst series</th>\n",
       "      <th>best series</th>\n",
       "      <th>worst big O</th>\n",
       "      <th>best big O</th>\n",
       "    </tr>\n",
       "  </thead>\n",
       "  <tbody>\n",
       "    <tr>\n",
       "      <th>0</th>\n",
       "      <td>Generic</td>\n",
       "      <td>86.0</td>\n",
       "      <td>1.178651</td>\n",
       "      <td>0.391980</td>\n",
       "      <td>1.000000</td>\n",
       "      <td>1.035538</td>\n",
       "      <td>1.053669</td>\n",
       "      <td>1.117278</td>\n",
       "      <td>3.913892</td>\n",
       "      <td>Int64_int_nan_series</td>\n",
       "      <td>uuid_series_str</td>\n",
       "      <td>Constant: time = 4.3E-06 (sec)</td>\n",
       "      <td>Constant: time = 4.3E-06 (sec)</td>\n",
       "    </tr>\n",
       "    <tr>\n",
       "      <th>1</th>\n",
       "      <td>Ordinal</td>\n",
       "      <td>1.0</td>\n",
       "      <td>2.793763</td>\n",
       "      <td>NaN</td>\n",
       "      <td>2.793763</td>\n",
       "      <td>2.793763</td>\n",
       "      <td>2.793763</td>\n",
       "      <td>2.793763</td>\n",
       "      <td>2.793763</td>\n",
       "      <td>ordinal</td>\n",
       "      <td>ordinal</td>\n",
       "      <td>Constant: time = 7.8E-06 (sec)</td>\n",
       "      <td>Constant: time = 7.8E-06 (sec)</td>\n",
       "    </tr>\n",
       "    <tr>\n",
       "      <th>2</th>\n",
       "      <td>Object</td>\n",
       "      <td>45.0</td>\n",
       "      <td>3.024763</td>\n",
       "      <td>0.298075</td>\n",
       "      <td>2.904596</td>\n",
       "      <td>2.949627</td>\n",
       "      <td>2.963012</td>\n",
       "      <td>2.983781</td>\n",
       "      <td>4.894969</td>\n",
       "      <td>bool_nan_series</td>\n",
       "      <td>uuid_series_str</td>\n",
       "      <td>Constant: time = 9.5E-06 (sec)</td>\n",
       "      <td>Constant: time = 9.5E-06 (sec)</td>\n",
       "    </tr>\n",
       "    <tr>\n",
       "      <th>3</th>\n",
       "      <td>Float</td>\n",
       "      <td>12.0</td>\n",
       "      <td>3.075971</td>\n",
       "      <td>0.184337</td>\n",
       "      <td>2.924639</td>\n",
       "      <td>2.961512</td>\n",
       "      <td>2.999736</td>\n",
       "      <td>3.096591</td>\n",
       "      <td>3.533131</td>\n",
       "      <td>float_nan_series</td>\n",
       "      <td>nan_series_2</td>\n",
       "      <td>Constant: time = 9E-06 (sec)</td>\n",
       "      <td>Constant: time = 9E-06 (sec)</td>\n",
       "    </tr>\n",
       "    <tr>\n",
       "      <th>4</th>\n",
       "      <td>Categorical</td>\n",
       "      <td>6.0</td>\n",
       "      <td>8.545493</td>\n",
       "      <td>12.349395</td>\n",
       "      <td>2.768247</td>\n",
       "      <td>2.833866</td>\n",
       "      <td>3.099789</td>\n",
       "      <td>5.217742</td>\n",
       "      <td>33.636184</td>\n",
       "      <td>categorical_char</td>\n",
       "      <td>ordinal</td>\n",
       "      <td>Constant: time = 1.2E-05 (sec)</td>\n",
       "      <td>Constant: time = 1.2E-05 (sec)</td>\n",
       "    </tr>\n",
       "    <tr>\n",
       "      <th>5</th>\n",
       "      <td>Complex</td>\n",
       "      <td>6.0</td>\n",
       "      <td>3.564251</td>\n",
       "      <td>0.697663</td>\n",
       "      <td>3.024395</td>\n",
       "      <td>3.050669</td>\n",
       "      <td>3.264522</td>\n",
       "      <td>3.900376</td>\n",
       "      <td>4.740357</td>\n",
       "      <td>complex_series</td>\n",
       "      <td>complex_series_py_nan</td>\n",
       "      <td>Constant: time = 1E-05 (sec)</td>\n",
       "      <td>Constant: time = 1E-05 (sec)</td>\n",
       "    </tr>\n",
       "    <tr>\n",
       "      <th>6</th>\n",
       "      <td>TimeDelta</td>\n",
       "      <td>2.0</td>\n",
       "      <td>3.278137</td>\n",
       "      <td>0.360523</td>\n",
       "      <td>3.023208</td>\n",
       "      <td>3.150673</td>\n",
       "      <td>3.278137</td>\n",
       "      <td>3.405601</td>\n",
       "      <td>3.533065</td>\n",
       "      <td>timedelta_series</td>\n",
       "      <td>timedelta_series_nat</td>\n",
       "      <td>Constant: time = 9.4E-06 (sec)</td>\n",
       "      <td>Constant: time = 9.4E-06 (sec)</td>\n",
       "    </tr>\n",
       "    <tr>\n",
       "      <th>7</th>\n",
       "      <td>DateTime</td>\n",
       "      <td>5.0</td>\n",
       "      <td>3.671273</td>\n",
       "      <td>0.982743</td>\n",
       "      <td>2.991495</td>\n",
       "      <td>3.000000</td>\n",
       "      <td>3.339619</td>\n",
       "      <td>3.668623</td>\n",
       "      <td>5.356630</td>\n",
       "      <td>date_series_nat</td>\n",
       "      <td>timestamp_series_nat</td>\n",
       "      <td>Constant: time = 9.7E-06 (sec)</td>\n",
       "      <td>Constant: time = 9.7E-06 (sec)</td>\n",
       "    </tr>\n",
       "    <tr>\n",
       "      <th>8</th>\n",
       "      <td>UUID</td>\n",
       "      <td>2.0</td>\n",
       "      <td>4.787499</td>\n",
       "      <td>0.108535</td>\n",
       "      <td>4.710754</td>\n",
       "      <td>4.749126</td>\n",
       "      <td>4.787499</td>\n",
       "      <td>4.825872</td>\n",
       "      <td>4.864245</td>\n",
       "      <td>uuid_series</td>\n",
       "      <td>uuid_series_missing</td>\n",
       "      <td>Constant: time = 1.3E-05 (sec)</td>\n",
       "      <td>Constant: time = 1.3E-05 (sec)</td>\n",
       "    </tr>\n",
       "    <tr>\n",
       "      <th>9</th>\n",
       "      <td>Boolean</td>\n",
       "      <td>4.0</td>\n",
       "      <td>5.698556</td>\n",
       "      <td>0.238221</td>\n",
       "      <td>5.462715</td>\n",
       "      <td>5.602805</td>\n",
       "      <td>5.650623</td>\n",
       "      <td>5.746374</td>\n",
       "      <td>6.030263</td>\n",
       "      <td>bool_series</td>\n",
       "      <td>nullable_bool_series</td>\n",
       "      <td>Constant: time = 1.3E-05 (sec)</td>\n",
       "      <td>Constant: time = 1.3E-05 (sec)</td>\n",
       "    </tr>\n",
       "    <tr>\n",
       "      <th>10</th>\n",
       "      <td>Count</td>\n",
       "      <td>1.0</td>\n",
       "      <td>6.590031</td>\n",
       "      <td>NaN</td>\n",
       "      <td>6.590031</td>\n",
       "      <td>6.590031</td>\n",
       "      <td>6.590031</td>\n",
       "      <td>6.590031</td>\n",
       "      <td>6.590031</td>\n",
       "      <td>np_uint32</td>\n",
       "      <td>np_uint32</td>\n",
       "      <td>Constant: time = 2.9E-05 (sec)</td>\n",
       "      <td>Constant: time = 2.9E-05 (sec)</td>\n",
       "    </tr>\n",
       "    <tr>\n",
       "      <th>11</th>\n",
       "      <td>Integer</td>\n",
       "      <td>5.0</td>\n",
       "      <td>8.752159</td>\n",
       "      <td>6.740502</td>\n",
       "      <td>3.563922</td>\n",
       "      <td>5.277444</td>\n",
       "      <td>6.652074</td>\n",
       "      <td>7.792774</td>\n",
       "      <td>20.474583</td>\n",
       "      <td>Int64_int_nan_series</td>\n",
       "      <td>int_series_boolean</td>\n",
       "      <td>Constant: time = 1.8E-05 (sec)</td>\n",
       "      <td>Constant: time = 1.8E-05 (sec)</td>\n",
       "    </tr>\n",
       "    <tr>\n",
       "      <th>12</th>\n",
       "      <td>File</td>\n",
       "      <td>5.0</td>\n",
       "      <td>11.471985</td>\n",
       "      <td>4.682660</td>\n",
       "      <td>4.451638</td>\n",
       "      <td>11.621151</td>\n",
       "      <td>11.649173</td>\n",
       "      <td>11.993605</td>\n",
       "      <td>17.644359</td>\n",
       "      <td>file_mixed_ext</td>\n",
       "      <td>image_png_missing</td>\n",
       "      <td>Constant: time = 1.3E-05 (sec)</td>\n",
       "      <td>Constant: time = 1.3E-05 (sec)</td>\n",
       "    </tr>\n",
       "    <tr>\n",
       "      <th>13</th>\n",
       "      <td>Image</td>\n",
       "      <td>2.0</td>\n",
       "      <td>12.857124</td>\n",
       "      <td>1.732917</td>\n",
       "      <td>11.631766</td>\n",
       "      <td>12.244445</td>\n",
       "      <td>12.857124</td>\n",
       "      <td>13.469803</td>\n",
       "      <td>14.082482</td>\n",
       "      <td>image_png</td>\n",
       "      <td>image_png_missing</td>\n",
       "      <td>Constant: time = 2.9E-05 (sec)</td>\n",
       "      <td>Constant: time = 2.9E-05 (sec)</td>\n",
       "    </tr>\n",
       "    <tr>\n",
       "      <th>14</th>\n",
       "      <td>Date</td>\n",
       "      <td>2.0</td>\n",
       "      <td>678.351618</td>\n",
       "      <td>328.602083</td>\n",
       "      <td>445.994857</td>\n",
       "      <td>562.173237</td>\n",
       "      <td>678.351618</td>\n",
       "      <td>794.529999</td>\n",
       "      <td>910.708379</td>\n",
       "      <td>date_series_nat</td>\n",
       "      <td>datetime</td>\n",
       "      <td>Linear: time = 0.00033 + 1.4E-08*n (sec)</td>\n",
       "      <td>Linear: time = 0.00033 + 1.4E-08*n (sec)</td>\n",
       "    </tr>\n",
       "    <tr>\n",
       "      <th>15</th>\n",
       "      <td>Geometry</td>\n",
       "      <td>2.0</td>\n",
       "      <td>6193.253867</td>\n",
       "      <td>8749.307354</td>\n",
       "      <td>6.559306</td>\n",
       "      <td>3099.906587</td>\n",
       "      <td>6193.253867</td>\n",
       "      <td>9286.601148</td>\n",
       "      <td>12379.948428</td>\n",
       "      <td>geometry_series</td>\n",
       "      <td>geometry_series_missing</td>\n",
       "      <td>Linear: time = 4.5E-05 + 1.8E-07*n (sec)</td>\n",
       "      <td>Constant: time = 1.5E-05 (sec)</td>\n",
       "    </tr>\n",
       "    <tr>\n",
       "      <th>16</th>\n",
       "      <td>IPAddress</td>\n",
       "      <td>3.0</td>\n",
       "      <td>6313.353722</td>\n",
       "      <td>5463.339084</td>\n",
       "      <td>4.859234</td>\n",
       "      <td>4728.373306</td>\n",
       "      <td>9451.887378</td>\n",
       "      <td>9467.600966</td>\n",
       "      <td>9483.314555</td>\n",
       "      <td>ip</td>\n",
       "      <td>ip_mixed_v4andv6</td>\n",
       "      <td>Linear: time = 4E-06 + 1.4E-07*n (sec)</td>\n",
       "      <td>Constant: time = 1.2E-05 (sec)</td>\n",
       "    </tr>\n",
       "    <tr>\n",
       "      <th>17</th>\n",
       "      <td>String</td>\n",
       "      <td>22.0</td>\n",
       "      <td>13573.771647</td>\n",
       "      <td>1214.095036</td>\n",
       "      <td>11969.913946</td>\n",
       "      <td>12916.225839</td>\n",
       "      <td>13023.237740</td>\n",
       "      <td>13693.882214</td>\n",
       "      <td>16723.737835</td>\n",
       "      <td>geometry_string_series</td>\n",
       "      <td>uuid_series_str</td>\n",
       "      <td>Linearithmic: time = -7E-05 + 1.9E-08*n*log(n)...</td>\n",
       "      <td>Linear: time = 0.00028 + 1.9E-07*n (sec)</td>\n",
       "    </tr>\n",
       "    <tr>\n",
       "      <th>18</th>\n",
       "      <td>URL</td>\n",
       "      <td>3.0</td>\n",
       "      <td>16752.514522</td>\n",
       "      <td>445.009387</td>\n",
       "      <td>16394.723726</td>\n",
       "      <td>16503.361888</td>\n",
       "      <td>16612.000049</td>\n",
       "      <td>16931.409919</td>\n",
       "      <td>17250.819789</td>\n",
       "      <td>url_nan_series</td>\n",
       "      <td>url_series</td>\n",
       "      <td>Linear: time = 9.2E-05 + 2.4E-07*n (sec)</td>\n",
       "      <td>Linear: time = 9.2E-05 + 2.4E-07*n (sec)</td>\n",
       "    </tr>\n",
       "    <tr>\n",
       "      <th>19</th>\n",
       "      <td>Path</td>\n",
       "      <td>8.0</td>\n",
       "      <td>16911.030362</td>\n",
       "      <td>14415.705860</td>\n",
       "      <td>5.664007</td>\n",
       "      <td>5.946051</td>\n",
       "      <td>24489.465361</td>\n",
       "      <td>25357.158559</td>\n",
       "      <td>35117.126028</td>\n",
       "      <td>file_mixed_ext</td>\n",
       "      <td>path_series_windows</td>\n",
       "      <td>Linearithmic: time = -0.00042 + 4.2E-08*n*log(...</td>\n",
       "      <td>Constant: time = 1.6E-05 (sec)</td>\n",
       "    </tr>\n",
       "  </tbody>\n",
       "</table>\n",
       "</div>"
      ],
      "text/plain": [
       "           type  count          mean           std           min  \\\n",
       "0       Generic   86.0      1.178651      0.391980      1.000000   \n",
       "1       Ordinal    1.0      2.793763           NaN      2.793763   \n",
       "2        Object   45.0      3.024763      0.298075      2.904596   \n",
       "3         Float   12.0      3.075971      0.184337      2.924639   \n",
       "4   Categorical    6.0      8.545493     12.349395      2.768247   \n",
       "5       Complex    6.0      3.564251      0.697663      3.024395   \n",
       "6     TimeDelta    2.0      3.278137      0.360523      3.023208   \n",
       "7      DateTime    5.0      3.671273      0.982743      2.991495   \n",
       "8          UUID    2.0      4.787499      0.108535      4.710754   \n",
       "9       Boolean    4.0      5.698556      0.238221      5.462715   \n",
       "10        Count    1.0      6.590031           NaN      6.590031   \n",
       "11      Integer    5.0      8.752159      6.740502      3.563922   \n",
       "12         File    5.0     11.471985      4.682660      4.451638   \n",
       "13        Image    2.0     12.857124      1.732917     11.631766   \n",
       "14         Date    2.0    678.351618    328.602083    445.994857   \n",
       "15     Geometry    2.0   6193.253867   8749.307354      6.559306   \n",
       "16    IPAddress    3.0   6313.353722   5463.339084      4.859234   \n",
       "17       String   22.0  13573.771647   1214.095036  11969.913946   \n",
       "18          URL    3.0  16752.514522    445.009387  16394.723726   \n",
       "19         Path    8.0  16911.030362  14415.705860      5.664007   \n",
       "\n",
       "             25%           50%           75%           max  \\\n",
       "0       1.035538      1.053669      1.117278      3.913892   \n",
       "1       2.793763      2.793763      2.793763      2.793763   \n",
       "2       2.949627      2.963012      2.983781      4.894969   \n",
       "3       2.961512      2.999736      3.096591      3.533131   \n",
       "4       2.833866      3.099789      5.217742     33.636184   \n",
       "5       3.050669      3.264522      3.900376      4.740357   \n",
       "6       3.150673      3.278137      3.405601      3.533065   \n",
       "7       3.000000      3.339619      3.668623      5.356630   \n",
       "8       4.749126      4.787499      4.825872      4.864245   \n",
       "9       5.602805      5.650623      5.746374      6.030263   \n",
       "10      6.590031      6.590031      6.590031      6.590031   \n",
       "11      5.277444      6.652074      7.792774     20.474583   \n",
       "12     11.621151     11.649173     11.993605     17.644359   \n",
       "13     12.244445     12.857124     13.469803     14.082482   \n",
       "14    562.173237    678.351618    794.529999    910.708379   \n",
       "15   3099.906587   6193.253867   9286.601148  12379.948428   \n",
       "16   4728.373306   9451.887378   9467.600966   9483.314555   \n",
       "17  12916.225839  13023.237740  13693.882214  16723.737835   \n",
       "18  16503.361888  16612.000049  16931.409919  17250.819789   \n",
       "19      5.946051  24489.465361  25357.158559  35117.126028   \n",
       "\n",
       "              worst series              best series  \\\n",
       "0     Int64_int_nan_series          uuid_series_str   \n",
       "1                  ordinal                  ordinal   \n",
       "2          bool_nan_series          uuid_series_str   \n",
       "3         float_nan_series             nan_series_2   \n",
       "4         categorical_char                  ordinal   \n",
       "5           complex_series    complex_series_py_nan   \n",
       "6         timedelta_series     timedelta_series_nat   \n",
       "7          date_series_nat     timestamp_series_nat   \n",
       "8              uuid_series      uuid_series_missing   \n",
       "9              bool_series     nullable_bool_series   \n",
       "10               np_uint32                np_uint32   \n",
       "11    Int64_int_nan_series       int_series_boolean   \n",
       "12          file_mixed_ext        image_png_missing   \n",
       "13               image_png        image_png_missing   \n",
       "14         date_series_nat                 datetime   \n",
       "15         geometry_series  geometry_series_missing   \n",
       "16                      ip         ip_mixed_v4andv6   \n",
       "17  geometry_string_series          uuid_series_str   \n",
       "18          url_nan_series               url_series   \n",
       "19          file_mixed_ext      path_series_windows   \n",
       "\n",
       "                                          worst big O  \\\n",
       "0                      Constant: time = 4.3E-06 (sec)   \n",
       "1                      Constant: time = 7.8E-06 (sec)   \n",
       "2                      Constant: time = 9.5E-06 (sec)   \n",
       "3                        Constant: time = 9E-06 (sec)   \n",
       "4                      Constant: time = 1.2E-05 (sec)   \n",
       "5                        Constant: time = 1E-05 (sec)   \n",
       "6                      Constant: time = 9.4E-06 (sec)   \n",
       "7                      Constant: time = 9.7E-06 (sec)   \n",
       "8                      Constant: time = 1.3E-05 (sec)   \n",
       "9                      Constant: time = 1.3E-05 (sec)   \n",
       "10                     Constant: time = 2.9E-05 (sec)   \n",
       "11                     Constant: time = 1.8E-05 (sec)   \n",
       "12                     Constant: time = 1.3E-05 (sec)   \n",
       "13                     Constant: time = 2.9E-05 (sec)   \n",
       "14           Linear: time = 0.00033 + 1.4E-08*n (sec)   \n",
       "15           Linear: time = 4.5E-05 + 1.8E-07*n (sec)   \n",
       "16             Linear: time = 4E-06 + 1.4E-07*n (sec)   \n",
       "17  Linearithmic: time = -7E-05 + 1.9E-08*n*log(n)...   \n",
       "18           Linear: time = 9.2E-05 + 2.4E-07*n (sec)   \n",
       "19  Linearithmic: time = -0.00042 + 4.2E-08*n*log(...   \n",
       "\n",
       "                                  best big O  \n",
       "0             Constant: time = 4.3E-06 (sec)  \n",
       "1             Constant: time = 7.8E-06 (sec)  \n",
       "2             Constant: time = 9.5E-06 (sec)  \n",
       "3               Constant: time = 9E-06 (sec)  \n",
       "4             Constant: time = 1.2E-05 (sec)  \n",
       "5               Constant: time = 1E-05 (sec)  \n",
       "6             Constant: time = 9.4E-06 (sec)  \n",
       "7             Constant: time = 9.7E-06 (sec)  \n",
       "8             Constant: time = 1.3E-05 (sec)  \n",
       "9             Constant: time = 1.3E-05 (sec)  \n",
       "10            Constant: time = 2.9E-05 (sec)  \n",
       "11            Constant: time = 1.8E-05 (sec)  \n",
       "12            Constant: time = 1.3E-05 (sec)  \n",
       "13            Constant: time = 2.9E-05 (sec)  \n",
       "14  Linear: time = 0.00033 + 1.4E-08*n (sec)  \n",
       "15            Constant: time = 1.5E-05 (sec)  \n",
       "16            Constant: time = 1.2E-05 (sec)  \n",
       "17  Linear: time = 0.00028 + 1.9E-07*n (sec)  \n",
       "18  Linear: time = 9.2E-05 + 2.4E-07*n (sec)  \n",
       "19            Constant: time = 1.6E-05 (sec)  "
      ]
     },
     "execution_count": 50,
     "metadata": {},
     "output_type": "execute_result"
    }
   ],
   "source": [
    "df"
   ]
  },
  {
   "cell_type": "code",
   "execution_count": 43,
   "metadata": {},
   "outputs": [
    {
     "data": {
      "text/html": [
       "<div>\n",
       "<style scoped>\n",
       "    .dataframe tbody tr th:only-of-type {\n",
       "        vertical-align: middle;\n",
       "    }\n",
       "\n",
       "    .dataframe tbody tr th {\n",
       "        vertical-align: top;\n",
       "    }\n",
       "\n",
       "    .dataframe thead th {\n",
       "        text-align: right;\n",
       "    }\n",
       "</style>\n",
       "<table border=\"1\" class=\"dataframe\">\n",
       "  <thead>\n",
       "    <tr style=\"text-align: right;\">\n",
       "      <th></th>\n",
       "      <th>type</th>\n",
       "      <th>series_min</th>\n",
       "      <th>series_max</th>\n",
       "      <th>big O_min</th>\n",
       "      <th>big O_max</th>\n",
       "    </tr>\n",
       "  </thead>\n",
       "  <tbody>\n",
       "    <tr>\n",
       "      <th>0</th>\n",
       "      <td>Boolean</td>\n",
       "      <td>bool_series</td>\n",
       "      <td>nullable_bool_series</td>\n",
       "      <td>Constant: time = 1.3E-05 (sec)</td>\n",
       "      <td>Constant: time = 1.3E-05 (sec)</td>\n",
       "    </tr>\n",
       "    <tr>\n",
       "      <th>1</th>\n",
       "      <td>Categorical</td>\n",
       "      <td>categorical_char</td>\n",
       "      <td>ordinal</td>\n",
       "      <td>Constant: time = 1.2E-05 (sec)</td>\n",
       "      <td>Constant: time = 1.2E-05 (sec)</td>\n",
       "    </tr>\n",
       "    <tr>\n",
       "      <th>2</th>\n",
       "      <td>Complex</td>\n",
       "      <td>complex_series</td>\n",
       "      <td>complex_series_py_nan</td>\n",
       "      <td>Constant: time = 1E-05 (sec)</td>\n",
       "      <td>Constant: time = 1E-05 (sec)</td>\n",
       "    </tr>\n",
       "    <tr>\n",
       "      <th>3</th>\n",
       "      <td>Count</td>\n",
       "      <td>np_uint32</td>\n",
       "      <td>np_uint32</td>\n",
       "      <td>Constant: time = 2.9E-05 (sec)</td>\n",
       "      <td>Constant: time = 2.9E-05 (sec)</td>\n",
       "    </tr>\n",
       "    <tr>\n",
       "      <th>4</th>\n",
       "      <td>Date</td>\n",
       "      <td>date_series_nat</td>\n",
       "      <td>datetime</td>\n",
       "      <td>Linear: time = 0.00033 + 1.4E-08*n (sec)</td>\n",
       "      <td>Linear: time = 0.00033 + 1.4E-08*n (sec)</td>\n",
       "    </tr>\n",
       "    <tr>\n",
       "      <th>5</th>\n",
       "      <td>DateTime</td>\n",
       "      <td>date_series_nat</td>\n",
       "      <td>timestamp_series_nat</td>\n",
       "      <td>Constant: time = 9.7E-06 (sec)</td>\n",
       "      <td>Constant: time = 9.7E-06 (sec)</td>\n",
       "    </tr>\n",
       "    <tr>\n",
       "      <th>6</th>\n",
       "      <td>File</td>\n",
       "      <td>file_mixed_ext</td>\n",
       "      <td>image_png_missing</td>\n",
       "      <td>Constant: time = 1.3E-05 (sec)</td>\n",
       "      <td>Constant: time = 1.3E-05 (sec)</td>\n",
       "    </tr>\n",
       "    <tr>\n",
       "      <th>7</th>\n",
       "      <td>Float</td>\n",
       "      <td>float_nan_series</td>\n",
       "      <td>nan_series_2</td>\n",
       "      <td>Constant: time = 9E-06 (sec)</td>\n",
       "      <td>Constant: time = 9E-06 (sec)</td>\n",
       "    </tr>\n",
       "    <tr>\n",
       "      <th>8</th>\n",
       "      <td>Generic</td>\n",
       "      <td>Int64_int_nan_series</td>\n",
       "      <td>uuid_series_str</td>\n",
       "      <td>Constant: time = 4.3E-06 (sec)</td>\n",
       "      <td>Constant: time = 4.3E-06 (sec)</td>\n",
       "    </tr>\n",
       "    <tr>\n",
       "      <th>9</th>\n",
       "      <td>Geometry</td>\n",
       "      <td>geometry_series</td>\n",
       "      <td>geometry_series_missing</td>\n",
       "      <td>Linear: time = 4.5E-05 + 1.8E-07*n (sec)</td>\n",
       "      <td>Constant: time = 1.5E-05 (sec)</td>\n",
       "    </tr>\n",
       "    <tr>\n",
       "      <th>10</th>\n",
       "      <td>IPAddress</td>\n",
       "      <td>ip</td>\n",
       "      <td>ip_mixed_v4andv6</td>\n",
       "      <td>Linear: time = 4E-06 + 1.4E-07*n (sec)</td>\n",
       "      <td>Constant: time = 1.2E-05 (sec)</td>\n",
       "    </tr>\n",
       "    <tr>\n",
       "      <th>11</th>\n",
       "      <td>Image</td>\n",
       "      <td>image_png</td>\n",
       "      <td>image_png_missing</td>\n",
       "      <td>Constant: time = 2.9E-05 (sec)</td>\n",
       "      <td>Constant: time = 2.9E-05 (sec)</td>\n",
       "    </tr>\n",
       "    <tr>\n",
       "      <th>12</th>\n",
       "      <td>Integer</td>\n",
       "      <td>Int64_int_nan_series</td>\n",
       "      <td>int_series_boolean</td>\n",
       "      <td>Constant: time = 1.8E-05 (sec)</td>\n",
       "      <td>Constant: time = 1.8E-05 (sec)</td>\n",
       "    </tr>\n",
       "    <tr>\n",
       "      <th>13</th>\n",
       "      <td>Object</td>\n",
       "      <td>bool_nan_series</td>\n",
       "      <td>uuid_series_str</td>\n",
       "      <td>Constant: time = 9.5E-06 (sec)</td>\n",
       "      <td>Constant: time = 9.5E-06 (sec)</td>\n",
       "    </tr>\n",
       "    <tr>\n",
       "      <th>14</th>\n",
       "      <td>Ordinal</td>\n",
       "      <td>ordinal</td>\n",
       "      <td>ordinal</td>\n",
       "      <td>Constant: time = 7.8E-06 (sec)</td>\n",
       "      <td>Constant: time = 7.8E-06 (sec)</td>\n",
       "    </tr>\n",
       "    <tr>\n",
       "      <th>15</th>\n",
       "      <td>Path</td>\n",
       "      <td>file_mixed_ext</td>\n",
       "      <td>path_series_windows</td>\n",
       "      <td>Linearithmic: time = -0.00042 + 4.2E-08*n*log(...</td>\n",
       "      <td>Constant: time = 1.6E-05 (sec)</td>\n",
       "    </tr>\n",
       "    <tr>\n",
       "      <th>16</th>\n",
       "      <td>String</td>\n",
       "      <td>geometry_string_series</td>\n",
       "      <td>uuid_series_str</td>\n",
       "      <td>Linearithmic: time = -7E-05 + 1.9E-08*n*log(n)...</td>\n",
       "      <td>Linear: time = 0.00028 + 1.9E-07*n (sec)</td>\n",
       "    </tr>\n",
       "    <tr>\n",
       "      <th>17</th>\n",
       "      <td>TimeDelta</td>\n",
       "      <td>timedelta_series</td>\n",
       "      <td>timedelta_series_nat</td>\n",
       "      <td>Constant: time = 9.4E-06 (sec)</td>\n",
       "      <td>Constant: time = 9.4E-06 (sec)</td>\n",
       "    </tr>\n",
       "    <tr>\n",
       "      <th>18</th>\n",
       "      <td>URL</td>\n",
       "      <td>url_nan_series</td>\n",
       "      <td>url_series</td>\n",
       "      <td>Linear: time = 9.2E-05 + 2.4E-07*n (sec)</td>\n",
       "      <td>Linear: time = 9.2E-05 + 2.4E-07*n (sec)</td>\n",
       "    </tr>\n",
       "    <tr>\n",
       "      <th>19</th>\n",
       "      <td>UUID</td>\n",
       "      <td>uuid_series</td>\n",
       "      <td>uuid_series_missing</td>\n",
       "      <td>Constant: time = 1.3E-05 (sec)</td>\n",
       "      <td>Constant: time = 1.3E-05 (sec)</td>\n",
       "    </tr>\n",
       "  </tbody>\n",
       "</table>\n",
       "</div>"
      ],
      "text/plain": [
       "           type              series_min               series_max  \\\n",
       "0       Boolean             bool_series     nullable_bool_series   \n",
       "1   Categorical        categorical_char                  ordinal   \n",
       "2       Complex          complex_series    complex_series_py_nan   \n",
       "3         Count               np_uint32                np_uint32   \n",
       "4          Date         date_series_nat                 datetime   \n",
       "5      DateTime         date_series_nat     timestamp_series_nat   \n",
       "6          File          file_mixed_ext        image_png_missing   \n",
       "7         Float        float_nan_series             nan_series_2   \n",
       "8       Generic    Int64_int_nan_series          uuid_series_str   \n",
       "9      Geometry         geometry_series  geometry_series_missing   \n",
       "10    IPAddress                      ip         ip_mixed_v4andv6   \n",
       "11        Image               image_png        image_png_missing   \n",
       "12      Integer    Int64_int_nan_series       int_series_boolean   \n",
       "13       Object         bool_nan_series          uuid_series_str   \n",
       "14      Ordinal                 ordinal                  ordinal   \n",
       "15         Path          file_mixed_ext      path_series_windows   \n",
       "16       String  geometry_string_series          uuid_series_str   \n",
       "17    TimeDelta        timedelta_series     timedelta_series_nat   \n",
       "18          URL          url_nan_series               url_series   \n",
       "19         UUID             uuid_series      uuid_series_missing   \n",
       "\n",
       "                                            big O_min  \\\n",
       "0                      Constant: time = 1.3E-05 (sec)   \n",
       "1                      Constant: time = 1.2E-05 (sec)   \n",
       "2                        Constant: time = 1E-05 (sec)   \n",
       "3                      Constant: time = 2.9E-05 (sec)   \n",
       "4            Linear: time = 0.00033 + 1.4E-08*n (sec)   \n",
       "5                      Constant: time = 9.7E-06 (sec)   \n",
       "6                      Constant: time = 1.3E-05 (sec)   \n",
       "7                        Constant: time = 9E-06 (sec)   \n",
       "8                      Constant: time = 4.3E-06 (sec)   \n",
       "9            Linear: time = 4.5E-05 + 1.8E-07*n (sec)   \n",
       "10             Linear: time = 4E-06 + 1.4E-07*n (sec)   \n",
       "11                     Constant: time = 2.9E-05 (sec)   \n",
       "12                     Constant: time = 1.8E-05 (sec)   \n",
       "13                     Constant: time = 9.5E-06 (sec)   \n",
       "14                     Constant: time = 7.8E-06 (sec)   \n",
       "15  Linearithmic: time = -0.00042 + 4.2E-08*n*log(...   \n",
       "16  Linearithmic: time = -7E-05 + 1.9E-08*n*log(n)...   \n",
       "17                     Constant: time = 9.4E-06 (sec)   \n",
       "18           Linear: time = 9.2E-05 + 2.4E-07*n (sec)   \n",
       "19                     Constant: time = 1.3E-05 (sec)   \n",
       "\n",
       "                                   big O_max  \n",
       "0             Constant: time = 1.3E-05 (sec)  \n",
       "1             Constant: time = 1.2E-05 (sec)  \n",
       "2               Constant: time = 1E-05 (sec)  \n",
       "3             Constant: time = 2.9E-05 (sec)  \n",
       "4   Linear: time = 0.00033 + 1.4E-08*n (sec)  \n",
       "5             Constant: time = 9.7E-06 (sec)  \n",
       "6             Constant: time = 1.3E-05 (sec)  \n",
       "7               Constant: time = 9E-06 (sec)  \n",
       "8             Constant: time = 4.3E-06 (sec)  \n",
       "9             Constant: time = 1.5E-05 (sec)  \n",
       "10            Constant: time = 1.2E-05 (sec)  \n",
       "11            Constant: time = 2.9E-05 (sec)  \n",
       "12            Constant: time = 1.8E-05 (sec)  \n",
       "13            Constant: time = 9.5E-06 (sec)  \n",
       "14            Constant: time = 7.8E-06 (sec)  \n",
       "15            Constant: time = 1.6E-05 (sec)  \n",
       "16  Linear: time = 0.00028 + 1.9E-07*n (sec)  \n",
       "17            Constant: time = 9.4E-06 (sec)  \n",
       "18  Linear: time = 9.2E-05 + 2.4E-07*n (sec)  \n",
       "19            Constant: time = 1.3E-05 (sec)  "
      ]
     },
     "execution_count": 43,
     "metadata": {},
     "output_type": "execute_result"
    }
   ],
   "source": [
    "agg_df"
   ]
  },
  {
   "cell_type": "code",
   "execution_count": 5,
   "metadata": {},
   "outputs": [
    {
     "data": {
      "text/html": [
       "<div>\n",
       "<style scoped>\n",
       "    .dataframe tbody tr th:only-of-type {\n",
       "        vertical-align: middle;\n",
       "    }\n",
       "\n",
       "    .dataframe tbody tr th {\n",
       "        vertical-align: top;\n",
       "    }\n",
       "\n",
       "    .dataframe thead th {\n",
       "        text-align: right;\n",
       "    }\n",
       "</style>\n",
       "<table border=\"1\" class=\"dataframe\">\n",
       "  <thead>\n",
       "    <tr style=\"text-align: right;\">\n",
       "      <th></th>\n",
       "      <th>count</th>\n",
       "      <th>mean</th>\n",
       "      <th>std</th>\n",
       "      <th>min</th>\n",
       "      <th>25%</th>\n",
       "      <th>50%</th>\n",
       "      <th>75%</th>\n",
       "      <th>max</th>\n",
       "    </tr>\n",
       "    <tr>\n",
       "      <th>type</th>\n",
       "      <th></th>\n",
       "      <th></th>\n",
       "      <th></th>\n",
       "      <th></th>\n",
       "      <th></th>\n",
       "      <th></th>\n",
       "      <th></th>\n",
       "      <th></th>\n",
       "    </tr>\n",
       "  </thead>\n",
       "  <tbody>\n",
       "    <tr>\n",
       "      <th>Boolean</th>\n",
       "      <td>4.0</td>\n",
       "      <td>2.281167</td>\n",
       "      <td>0.181506</td>\n",
       "      <td>2.179914</td>\n",
       "      <td>2.190339</td>\n",
       "      <td>2.195784</td>\n",
       "      <td>2.286612</td>\n",
       "      <td>2.553183</td>\n",
       "    </tr>\n",
       "    <tr>\n",
       "      <th>Categorical</th>\n",
       "      <td>6.0</td>\n",
       "      <td>1.065495</td>\n",
       "      <td>0.117437</td>\n",
       "      <td>1.000000</td>\n",
       "      <td>1.009710</td>\n",
       "      <td>1.018906</td>\n",
       "      <td>1.038690</td>\n",
       "      <td>1.303231</td>\n",
       "    </tr>\n",
       "    <tr>\n",
       "      <th>Complex</th>\n",
       "      <td>6.0</td>\n",
       "      <td>1.203364</td>\n",
       "      <td>0.162625</td>\n",
       "      <td>1.113465</td>\n",
       "      <td>1.134551</td>\n",
       "      <td>1.137621</td>\n",
       "      <td>1.157573</td>\n",
       "      <td>1.533724</td>\n",
       "    </tr>\n",
       "    <tr>\n",
       "      <th>Count</th>\n",
       "      <td>1.0</td>\n",
       "      <td>1.407142</td>\n",
       "      <td>NaN</td>\n",
       "      <td>1.407142</td>\n",
       "      <td>1.407142</td>\n",
       "      <td>1.407142</td>\n",
       "      <td>1.407142</td>\n",
       "      <td>1.407142</td>\n",
       "    </tr>\n",
       "    <tr>\n",
       "      <th>Date</th>\n",
       "      <td>2.0</td>\n",
       "      <td>371.603047</td>\n",
       "      <td>264.943622</td>\n",
       "      <td>184.259615</td>\n",
       "      <td>277.931331</td>\n",
       "      <td>371.603047</td>\n",
       "      <td>465.274763</td>\n",
       "      <td>558.946479</td>\n",
       "    </tr>\n",
       "    <tr>\n",
       "      <th>DateTime</th>\n",
       "      <td>5.0</td>\n",
       "      <td>2.093957</td>\n",
       "      <td>1.267291</td>\n",
       "      <td>1.185852</td>\n",
       "      <td>1.296456</td>\n",
       "      <td>1.542226</td>\n",
       "      <td>2.195190</td>\n",
       "      <td>4.250061</td>\n",
       "    </tr>\n",
       "    <tr>\n",
       "      <th>Float</th>\n",
       "      <td>12.0</td>\n",
       "      <td>1.177107</td>\n",
       "      <td>0.111002</td>\n",
       "      <td>1.125800</td>\n",
       "      <td>1.137594</td>\n",
       "      <td>1.140320</td>\n",
       "      <td>1.155387</td>\n",
       "      <td>1.525762</td>\n",
       "    </tr>\n",
       "    <tr>\n",
       "      <th>Generic</th>\n",
       "      <td>75.0</td>\n",
       "      <td>0.388282</td>\n",
       "      <td>0.051799</td>\n",
       "      <td>0.359828</td>\n",
       "      <td>0.365807</td>\n",
       "      <td>0.372055</td>\n",
       "      <td>0.381663</td>\n",
       "      <td>0.680602</td>\n",
       "    </tr>\n",
       "    <tr>\n",
       "      <th>Geometry</th>\n",
       "      <td>1.0</td>\n",
       "      <td>5151.346063</td>\n",
       "      <td>NaN</td>\n",
       "      <td>5151.346063</td>\n",
       "      <td>5151.346063</td>\n",
       "      <td>5151.346063</td>\n",
       "      <td>5151.346063</td>\n",
       "      <td>5151.346063</td>\n",
       "    </tr>\n",
       "    <tr>\n",
       "      <th>IPAddress</th>\n",
       "      <td>1.0</td>\n",
       "      <td>3981.539958</td>\n",
       "      <td>NaN</td>\n",
       "      <td>3981.539958</td>\n",
       "      <td>3981.539958</td>\n",
       "      <td>3981.539958</td>\n",
       "      <td>3981.539958</td>\n",
       "      <td>3981.539958</td>\n",
       "    </tr>\n",
       "    <tr>\n",
       "      <th>Integer</th>\n",
       "      <td>5.0</td>\n",
       "      <td>1.282951</td>\n",
       "      <td>0.200233</td>\n",
       "      <td>1.162074</td>\n",
       "      <td>1.184448</td>\n",
       "      <td>1.206877</td>\n",
       "      <td>1.222558</td>\n",
       "      <td>1.638795</td>\n",
       "    </tr>\n",
       "    <tr>\n",
       "      <th>Object</th>\n",
       "      <td>34.0</td>\n",
       "      <td>1.173795</td>\n",
       "      <td>0.401219</td>\n",
       "      <td>1.051092</td>\n",
       "      <td>1.073041</td>\n",
       "      <td>1.077866</td>\n",
       "      <td>1.105645</td>\n",
       "      <td>3.383094</td>\n",
       "    </tr>\n",
       "    <tr>\n",
       "      <th>Ordinal</th>\n",
       "      <td>1.0</td>\n",
       "      <td>1.369680</td>\n",
       "      <td>NaN</td>\n",
       "      <td>1.369680</td>\n",
       "      <td>1.369680</td>\n",
       "      <td>1.369680</td>\n",
       "      <td>1.369680</td>\n",
       "      <td>1.369680</td>\n",
       "    </tr>\n",
       "    <tr>\n",
       "      <th>Path</th>\n",
       "      <td>2.0</td>\n",
       "      <td>11921.301543</td>\n",
       "      <td>3359.479165</td>\n",
       "      <td>9545.791044</td>\n",
       "      <td>10733.546294</td>\n",
       "      <td>11921.301543</td>\n",
       "      <td>13109.056793</td>\n",
       "      <td>14296.812042</td>\n",
       "    </tr>\n",
       "    <tr>\n",
       "      <th>String</th>\n",
       "      <td>22.0</td>\n",
       "      <td>6352.231777</td>\n",
       "      <td>1002.278865</td>\n",
       "      <td>5041.328601</td>\n",
       "      <td>5514.300437</td>\n",
       "      <td>6159.060174</td>\n",
       "      <td>6719.296550</td>\n",
       "      <td>8747.502631</td>\n",
       "    </tr>\n",
       "    <tr>\n",
       "      <th>TimeDelta</th>\n",
       "      <td>2.0</td>\n",
       "      <td>2.532118</td>\n",
       "      <td>0.317168</td>\n",
       "      <td>2.307846</td>\n",
       "      <td>2.419982</td>\n",
       "      <td>2.532118</td>\n",
       "      <td>2.644254</td>\n",
       "      <td>2.756390</td>\n",
       "    </tr>\n",
       "    <tr>\n",
       "      <th>URL</th>\n",
       "      <td>2.0</td>\n",
       "      <td>8875.434347</td>\n",
       "      <td>1352.378676</td>\n",
       "      <td>7919.158214</td>\n",
       "      <td>8397.296280</td>\n",
       "      <td>8875.434347</td>\n",
       "      <td>9353.572413</td>\n",
       "      <td>9831.710480</td>\n",
       "    </tr>\n",
       "    <tr>\n",
       "      <th>UUID</th>\n",
       "      <td>1.0</td>\n",
       "      <td>4951.634153</td>\n",
       "      <td>NaN</td>\n",
       "      <td>4951.634153</td>\n",
       "      <td>4951.634153</td>\n",
       "      <td>4951.634153</td>\n",
       "      <td>4951.634153</td>\n",
       "      <td>4951.634153</td>\n",
       "    </tr>\n",
       "  </tbody>\n",
       "</table>\n",
       "</div>"
      ],
      "text/plain": [
       "             count          mean          std          min           25%  \\\n",
       "type                                                                       \n",
       "Boolean        4.0      2.281167     0.181506     2.179914      2.190339   \n",
       "Categorical    6.0      1.065495     0.117437     1.000000      1.009710   \n",
       "Complex        6.0      1.203364     0.162625     1.113465      1.134551   \n",
       "Count          1.0      1.407142          NaN     1.407142      1.407142   \n",
       "Date           2.0    371.603047   264.943622   184.259615    277.931331   \n",
       "DateTime       5.0      2.093957     1.267291     1.185852      1.296456   \n",
       "Float         12.0      1.177107     0.111002     1.125800      1.137594   \n",
       "Generic       75.0      0.388282     0.051799     0.359828      0.365807   \n",
       "Geometry       1.0   5151.346063          NaN  5151.346063   5151.346063   \n",
       "IPAddress      1.0   3981.539958          NaN  3981.539958   3981.539958   \n",
       "Integer        5.0      1.282951     0.200233     1.162074      1.184448   \n",
       "Object        34.0      1.173795     0.401219     1.051092      1.073041   \n",
       "Ordinal        1.0      1.369680          NaN     1.369680      1.369680   \n",
       "Path           2.0  11921.301543  3359.479165  9545.791044  10733.546294   \n",
       "String        22.0   6352.231777  1002.278865  5041.328601   5514.300437   \n",
       "TimeDelta      2.0      2.532118     0.317168     2.307846      2.419982   \n",
       "URL            2.0   8875.434347  1352.378676  7919.158214   8397.296280   \n",
       "UUID           1.0   4951.634153          NaN  4951.634153   4951.634153   \n",
       "\n",
       "                      50%           75%           max  \n",
       "type                                                   \n",
       "Boolean          2.195784      2.286612      2.553183  \n",
       "Categorical      1.018906      1.038690      1.303231  \n",
       "Complex          1.137621      1.157573      1.533724  \n",
       "Count            1.407142      1.407142      1.407142  \n",
       "Date           371.603047    465.274763    558.946479  \n",
       "DateTime         1.542226      2.195190      4.250061  \n",
       "Float            1.140320      1.155387      1.525762  \n",
       "Generic          0.372055      0.381663      0.680602  \n",
       "Geometry      5151.346063   5151.346063   5151.346063  \n",
       "IPAddress     3981.539958   3981.539958   3981.539958  \n",
       "Integer          1.206877      1.222558      1.638795  \n",
       "Object           1.077866      1.105645      3.383094  \n",
       "Ordinal          1.369680      1.369680      1.369680  \n",
       "Path         11921.301543  13109.056793  14296.812042  \n",
       "String        6159.060174   6719.296550   8747.502631  \n",
       "TimeDelta        2.532118      2.644254      2.756390  \n",
       "URL           8875.434347   9353.572413   9831.710480  \n",
       "UUID          4951.634153   4951.634153   4951.634153  "
      ]
     },
     "execution_count": 5,
     "metadata": {},
     "output_type": "execute_result"
    }
   ],
   "source": [
    "df.groupby('type')['normed run time'].describe()"
   ]
  },
  {
   "cell_type": "code",
   "execution_count": 5,
   "metadata": {},
   "outputs": [
    {
     "data": {
      "text/html": [
       "<div>\n",
       "<style scoped>\n",
       "    .dataframe tbody tr th:only-of-type {\n",
       "        vertical-align: middle;\n",
       "    }\n",
       "\n",
       "    .dataframe tbody tr th {\n",
       "        vertical-align: top;\n",
       "    }\n",
       "\n",
       "    .dataframe thead th {\n",
       "        text-align: right;\n",
       "    }\n",
       "</style>\n",
       "<table border=\"1\" class=\"dataframe\">\n",
       "  <thead>\n",
       "    <tr style=\"text-align: right;\">\n",
       "      <th></th>\n",
       "      <th>type</th>\n",
       "      <th>series</th>\n",
       "      <th>run count</th>\n",
       "      <th>average run time</th>\n",
       "      <th>normed run time</th>\n",
       "    </tr>\n",
       "  </thead>\n",
       "  <tbody>\n",
       "    <tr>\n",
       "      <th>129</th>\n",
       "      <td>Generic</td>\n",
       "      <td>ip_str</td>\n",
       "      <td>10</td>\n",
       "      <td>0.000001</td>\n",
       "      <td>0.352867</td>\n",
       "    </tr>\n",
       "    <tr>\n",
       "      <th>133</th>\n",
       "      <td>Generic</td>\n",
       "      <td>geometry_string_series</td>\n",
       "      <td>10</td>\n",
       "      <td>0.000001</td>\n",
       "      <td>0.354836</td>\n",
       "    </tr>\n",
       "    <tr>\n",
       "      <th>176</th>\n",
       "      <td>Generic</td>\n",
       "      <td>mixed_dict</td>\n",
       "      <td>10</td>\n",
       "      <td>0.000001</td>\n",
       "      <td>0.355052</td>\n",
       "    </tr>\n",
       "    <tr>\n",
       "      <th>118</th>\n",
       "      <td>Generic</td>\n",
       "      <td>categorical_int_series</td>\n",
       "      <td>10</td>\n",
       "      <td>0.000001</td>\n",
       "      <td>0.355079</td>\n",
       "    </tr>\n",
       "    <tr>\n",
       "      <th>155</th>\n",
       "      <td>Generic</td>\n",
       "      <td>float_series6</td>\n",
       "      <td>10</td>\n",
       "      <td>0.000001</td>\n",
       "      <td>0.355457</td>\n",
       "    </tr>\n",
       "    <tr>\n",
       "      <th>...</th>\n",
       "      <td>...</td>\n",
       "      <td>...</td>\n",
       "      <td>...</td>\n",
       "      <td>...</td>\n",
       "      <td>...</td>\n",
       "    </tr>\n",
       "    <tr>\n",
       "      <th>166</th>\n",
       "      <td>Generic</td>\n",
       "      <td>nan_series_2</td>\n",
       "      <td>10</td>\n",
       "      <td>0.000001</td>\n",
       "      <td>0.376150</td>\n",
       "    </tr>\n",
       "    <tr>\n",
       "      <th>150</th>\n",
       "      <td>Generic</td>\n",
       "      <td>string_unicode_series</td>\n",
       "      <td>10</td>\n",
       "      <td>0.000001</td>\n",
       "      <td>0.377391</td>\n",
       "    </tr>\n",
       "    <tr>\n",
       "      <th>108</th>\n",
       "      <td>Generic</td>\n",
       "      <td>categorical_char</td>\n",
       "      <td>10</td>\n",
       "      <td>0.000001</td>\n",
       "      <td>0.391690</td>\n",
       "    </tr>\n",
       "    <tr>\n",
       "      <th>181</th>\n",
       "      <td>Generic</td>\n",
       "      <td>timestamp_aware_series</td>\n",
       "      <td>10</td>\n",
       "      <td>0.000002</td>\n",
       "      <td>0.425577</td>\n",
       "    </tr>\n",
       "    <tr>\n",
       "      <th>107</th>\n",
       "      <td>Generic</td>\n",
       "      <td>bool_series3</td>\n",
       "      <td>10</td>\n",
       "      <td>0.000002</td>\n",
       "      <td>0.605936</td>\n",
       "    </tr>\n",
       "  </tbody>\n",
       "</table>\n",
       "<p>75 rows × 5 columns</p>\n",
       "</div>"
      ],
      "text/plain": [
       "        type                  series  run count  average run time  \\\n",
       "129  Generic                  ip_str         10          0.000001   \n",
       "133  Generic  geometry_string_series         10          0.000001   \n",
       "176  Generic              mixed_dict         10          0.000001   \n",
       "118  Generic  categorical_int_series         10          0.000001   \n",
       "155  Generic           float_series6         10          0.000001   \n",
       "..       ...                     ...        ...               ...   \n",
       "166  Generic            nan_series_2         10          0.000001   \n",
       "150  Generic   string_unicode_series         10          0.000001   \n",
       "108  Generic        categorical_char         10          0.000001   \n",
       "181  Generic  timestamp_aware_series         10          0.000002   \n",
       "107  Generic            bool_series3         10          0.000002   \n",
       "\n",
       "     normed run time  \n",
       "129         0.352867  \n",
       "133         0.354836  \n",
       "176         0.355052  \n",
       "118         0.355079  \n",
       "155         0.355457  \n",
       "..               ...  \n",
       "166         0.376150  \n",
       "150         0.377391  \n",
       "108         0.391690  \n",
       "181         0.425577  \n",
       "107         0.605936  \n",
       "\n",
       "[75 rows x 5 columns]"
      ]
     },
     "execution_count": 5,
     "metadata": {},
     "output_type": "execute_result"
    }
   ],
   "source": [
    "df[df['type']=='Generic'].sort_values('normed run time')"
   ]
  },
  {
   "cell_type": "code",
   "execution_count": 7,
   "metadata": {},
   "outputs": [],
   "source": [
    "sdf = df.groupby(['type'])['normed run time'].describe().sort_values('50%')"
   ]
  },
  {
   "cell_type": "code",
   "execution_count": 20,
   "metadata": {},
   "outputs": [],
   "source": [
    "slow_df = df.groupby('type').min().reset_index()[['type', 'series']]\n",
    "slow_df.rename(columns={'series': 'slowest test'}, inplace=True)"
   ]
  },
  {
   "cell_type": "code",
   "execution_count": 19,
   "metadata": {},
   "outputs": [
    {
     "data": {
      "text/html": [
       "<div>\n",
       "<style scoped>\n",
       "    .dataframe tbody tr th:only-of-type {\n",
       "        vertical-align: middle;\n",
       "    }\n",
       "\n",
       "    .dataframe tbody tr th {\n",
       "        vertical-align: top;\n",
       "    }\n",
       "\n",
       "    .dataframe thead th {\n",
       "        text-align: right;\n",
       "    }\n",
       "</style>\n",
       "<table border=\"1\" class=\"dataframe\">\n",
       "  <thead>\n",
       "    <tr style=\"text-align: right;\">\n",
       "      <th></th>\n",
       "      <th>type</th>\n",
       "      <th>count</th>\n",
       "      <th>mean</th>\n",
       "      <th>std</th>\n",
       "      <th>min</th>\n",
       "      <th>25%</th>\n",
       "      <th>50%</th>\n",
       "      <th>75%</th>\n",
       "      <th>max</th>\n",
       "      <th>slowest test</th>\n",
       "    </tr>\n",
       "  </thead>\n",
       "  <tbody>\n",
       "    <tr>\n",
       "      <th>0</th>\n",
       "      <td>Generic</td>\n",
       "      <td>75.0</td>\n",
       "      <td>0.388282</td>\n",
       "      <td>0.051799</td>\n",
       "      <td>0.359828</td>\n",
       "      <td>0.365807</td>\n",
       "      <td>0.372055</td>\n",
       "      <td>0.381663</td>\n",
       "      <td>0.680602</td>\n",
       "      <td>Int64_int_nan_series</td>\n",
       "    </tr>\n",
       "    <tr>\n",
       "      <th>1</th>\n",
       "      <td>Categorical</td>\n",
       "      <td>6.0</td>\n",
       "      <td>1.065495</td>\n",
       "      <td>0.117437</td>\n",
       "      <td>1.000000</td>\n",
       "      <td>1.009710</td>\n",
       "      <td>1.018906</td>\n",
       "      <td>1.038690</td>\n",
       "      <td>1.303231</td>\n",
       "      <td>categorical_char</td>\n",
       "    </tr>\n",
       "    <tr>\n",
       "      <th>2</th>\n",
       "      <td>Object</td>\n",
       "      <td>34.0</td>\n",
       "      <td>1.173795</td>\n",
       "      <td>0.401219</td>\n",
       "      <td>1.051092</td>\n",
       "      <td>1.073041</td>\n",
       "      <td>1.077866</td>\n",
       "      <td>1.105645</td>\n",
       "      <td>3.383094</td>\n",
       "      <td>bool_nan_series</td>\n",
       "    </tr>\n",
       "    <tr>\n",
       "      <th>3</th>\n",
       "      <td>Complex</td>\n",
       "      <td>6.0</td>\n",
       "      <td>1.203364</td>\n",
       "      <td>0.162625</td>\n",
       "      <td>1.113465</td>\n",
       "      <td>1.134551</td>\n",
       "      <td>1.137621</td>\n",
       "      <td>1.157573</td>\n",
       "      <td>1.533724</td>\n",
       "      <td>complex_series</td>\n",
       "    </tr>\n",
       "    <tr>\n",
       "      <th>4</th>\n",
       "      <td>Float</td>\n",
       "      <td>12.0</td>\n",
       "      <td>1.177107</td>\n",
       "      <td>0.111002</td>\n",
       "      <td>1.125800</td>\n",
       "      <td>1.137594</td>\n",
       "      <td>1.140320</td>\n",
       "      <td>1.155387</td>\n",
       "      <td>1.525762</td>\n",
       "      <td>float_nan_series</td>\n",
       "    </tr>\n",
       "    <tr>\n",
       "      <th>5</th>\n",
       "      <td>Integer</td>\n",
       "      <td>5.0</td>\n",
       "      <td>1.282951</td>\n",
       "      <td>0.200233</td>\n",
       "      <td>1.162074</td>\n",
       "      <td>1.184448</td>\n",
       "      <td>1.206877</td>\n",
       "      <td>1.222558</td>\n",
       "      <td>1.638795</td>\n",
       "      <td>Int64_int_nan_series</td>\n",
       "    </tr>\n",
       "    <tr>\n",
       "      <th>6</th>\n",
       "      <td>Ordinal</td>\n",
       "      <td>1.0</td>\n",
       "      <td>1.369680</td>\n",
       "      <td>NaN</td>\n",
       "      <td>1.369680</td>\n",
       "      <td>1.369680</td>\n",
       "      <td>1.369680</td>\n",
       "      <td>1.369680</td>\n",
       "      <td>1.369680</td>\n",
       "      <td>ordinal</td>\n",
       "    </tr>\n",
       "    <tr>\n",
       "      <th>7</th>\n",
       "      <td>Count</td>\n",
       "      <td>1.0</td>\n",
       "      <td>1.407142</td>\n",
       "      <td>NaN</td>\n",
       "      <td>1.407142</td>\n",
       "      <td>1.407142</td>\n",
       "      <td>1.407142</td>\n",
       "      <td>1.407142</td>\n",
       "      <td>1.407142</td>\n",
       "      <td>np_uint32</td>\n",
       "    </tr>\n",
       "    <tr>\n",
       "      <th>8</th>\n",
       "      <td>DateTime</td>\n",
       "      <td>5.0</td>\n",
       "      <td>2.093957</td>\n",
       "      <td>1.267291</td>\n",
       "      <td>1.185852</td>\n",
       "      <td>1.296456</td>\n",
       "      <td>1.542226</td>\n",
       "      <td>2.195190</td>\n",
       "      <td>4.250061</td>\n",
       "      <td>date_series_nat</td>\n",
       "    </tr>\n",
       "    <tr>\n",
       "      <th>9</th>\n",
       "      <td>Boolean</td>\n",
       "      <td>4.0</td>\n",
       "      <td>2.281167</td>\n",
       "      <td>0.181506</td>\n",
       "      <td>2.179914</td>\n",
       "      <td>2.190339</td>\n",
       "      <td>2.195784</td>\n",
       "      <td>2.286612</td>\n",
       "      <td>2.553183</td>\n",
       "      <td>bool_series</td>\n",
       "    </tr>\n",
       "    <tr>\n",
       "      <th>10</th>\n",
       "      <td>TimeDelta</td>\n",
       "      <td>2.0</td>\n",
       "      <td>2.532118</td>\n",
       "      <td>0.317168</td>\n",
       "      <td>2.307846</td>\n",
       "      <td>2.419982</td>\n",
       "      <td>2.532118</td>\n",
       "      <td>2.644254</td>\n",
       "      <td>2.756390</td>\n",
       "      <td>timedelta_series</td>\n",
       "    </tr>\n",
       "    <tr>\n",
       "      <th>11</th>\n",
       "      <td>Date</td>\n",
       "      <td>2.0</td>\n",
       "      <td>371.603047</td>\n",
       "      <td>264.943622</td>\n",
       "      <td>184.259615</td>\n",
       "      <td>277.931331</td>\n",
       "      <td>371.603047</td>\n",
       "      <td>465.274763</td>\n",
       "      <td>558.946479</td>\n",
       "      <td>date_series_nat</td>\n",
       "    </tr>\n",
       "    <tr>\n",
       "      <th>12</th>\n",
       "      <td>IPAddress</td>\n",
       "      <td>1.0</td>\n",
       "      <td>3981.539958</td>\n",
       "      <td>NaN</td>\n",
       "      <td>3981.539958</td>\n",
       "      <td>3981.539958</td>\n",
       "      <td>3981.539958</td>\n",
       "      <td>3981.539958</td>\n",
       "      <td>3981.539958</td>\n",
       "      <td>ip</td>\n",
       "    </tr>\n",
       "    <tr>\n",
       "      <th>13</th>\n",
       "      <td>UUID</td>\n",
       "      <td>1.0</td>\n",
       "      <td>4951.634153</td>\n",
       "      <td>NaN</td>\n",
       "      <td>4951.634153</td>\n",
       "      <td>4951.634153</td>\n",
       "      <td>4951.634153</td>\n",
       "      <td>4951.634153</td>\n",
       "      <td>4951.634153</td>\n",
       "      <td>uuid_series</td>\n",
       "    </tr>\n",
       "    <tr>\n",
       "      <th>14</th>\n",
       "      <td>Geometry</td>\n",
       "      <td>1.0</td>\n",
       "      <td>5151.346063</td>\n",
       "      <td>NaN</td>\n",
       "      <td>5151.346063</td>\n",
       "      <td>5151.346063</td>\n",
       "      <td>5151.346063</td>\n",
       "      <td>5151.346063</td>\n",
       "      <td>5151.346063</td>\n",
       "      <td>geometry_series</td>\n",
       "    </tr>\n",
       "    <tr>\n",
       "      <th>15</th>\n",
       "      <td>String</td>\n",
       "      <td>22.0</td>\n",
       "      <td>6352.231777</td>\n",
       "      <td>1002.278865</td>\n",
       "      <td>5041.328601</td>\n",
       "      <td>5514.300437</td>\n",
       "      <td>6159.060174</td>\n",
       "      <td>6719.296550</td>\n",
       "      <td>8747.502631</td>\n",
       "      <td>geometry_string_series</td>\n",
       "    </tr>\n",
       "    <tr>\n",
       "      <th>16</th>\n",
       "      <td>URL</td>\n",
       "      <td>2.0</td>\n",
       "      <td>8875.434347</td>\n",
       "      <td>1352.378676</td>\n",
       "      <td>7919.158214</td>\n",
       "      <td>8397.296280</td>\n",
       "      <td>8875.434347</td>\n",
       "      <td>9353.572413</td>\n",
       "      <td>9831.710480</td>\n",
       "      <td>url_nan_series</td>\n",
       "    </tr>\n",
       "    <tr>\n",
       "      <th>17</th>\n",
       "      <td>Path</td>\n",
       "      <td>2.0</td>\n",
       "      <td>11921.301543</td>\n",
       "      <td>3359.479165</td>\n",
       "      <td>9545.791044</td>\n",
       "      <td>10733.546294</td>\n",
       "      <td>11921.301543</td>\n",
       "      <td>13109.056793</td>\n",
       "      <td>14296.812042</td>\n",
       "      <td>path_series_linux</td>\n",
       "    </tr>\n",
       "  </tbody>\n",
       "</table>\n",
       "</div>"
      ],
      "text/plain": [
       "           type  count          mean          std          min           25%  \\\n",
       "0       Generic   75.0      0.388282     0.051799     0.359828      0.365807   \n",
       "1   Categorical    6.0      1.065495     0.117437     1.000000      1.009710   \n",
       "2        Object   34.0      1.173795     0.401219     1.051092      1.073041   \n",
       "3       Complex    6.0      1.203364     0.162625     1.113465      1.134551   \n",
       "4         Float   12.0      1.177107     0.111002     1.125800      1.137594   \n",
       "5       Integer    5.0      1.282951     0.200233     1.162074      1.184448   \n",
       "6       Ordinal    1.0      1.369680          NaN     1.369680      1.369680   \n",
       "7         Count    1.0      1.407142          NaN     1.407142      1.407142   \n",
       "8      DateTime    5.0      2.093957     1.267291     1.185852      1.296456   \n",
       "9       Boolean    4.0      2.281167     0.181506     2.179914      2.190339   \n",
       "10    TimeDelta    2.0      2.532118     0.317168     2.307846      2.419982   \n",
       "11         Date    2.0    371.603047   264.943622   184.259615    277.931331   \n",
       "12    IPAddress    1.0   3981.539958          NaN  3981.539958   3981.539958   \n",
       "13         UUID    1.0   4951.634153          NaN  4951.634153   4951.634153   \n",
       "14     Geometry    1.0   5151.346063          NaN  5151.346063   5151.346063   \n",
       "15       String   22.0   6352.231777  1002.278865  5041.328601   5514.300437   \n",
       "16          URL    2.0   8875.434347  1352.378676  7919.158214   8397.296280   \n",
       "17         Path    2.0  11921.301543  3359.479165  9545.791044  10733.546294   \n",
       "\n",
       "             50%           75%           max            slowest test  \n",
       "0       0.372055      0.381663      0.680602    Int64_int_nan_series  \n",
       "1       1.018906      1.038690      1.303231        categorical_char  \n",
       "2       1.077866      1.105645      3.383094         bool_nan_series  \n",
       "3       1.137621      1.157573      1.533724          complex_series  \n",
       "4       1.140320      1.155387      1.525762        float_nan_series  \n",
       "5       1.206877      1.222558      1.638795    Int64_int_nan_series  \n",
       "6       1.369680      1.369680      1.369680                 ordinal  \n",
       "7       1.407142      1.407142      1.407142               np_uint32  \n",
       "8       1.542226      2.195190      4.250061         date_series_nat  \n",
       "9       2.195784      2.286612      2.553183             bool_series  \n",
       "10      2.532118      2.644254      2.756390        timedelta_series  \n",
       "11    371.603047    465.274763    558.946479         date_series_nat  \n",
       "12   3981.539958   3981.539958   3981.539958                      ip  \n",
       "13   4951.634153   4951.634153   4951.634153             uuid_series  \n",
       "14   5151.346063   5151.346063   5151.346063         geometry_series  \n",
       "15   6159.060174   6719.296550   8747.502631  geometry_string_series  \n",
       "16   8875.434347   9353.572413   9831.710480          url_nan_series  \n",
       "17  11921.301543  13109.056793  14296.812042       path_series_linux  "
      ]
     },
     "execution_count": 19,
     "metadata": {},
     "output_type": "execute_result"
    }
   ],
   "source": [
    "import pandas as pd\n",
    "pd.merge(sdf, slow_df, on='type', how='left')"
   ]
  },
  {
   "cell_type": "code",
   "execution_count": 7,
   "metadata": {},
   "outputs": [],
   "source": [
    "from urllib.parse import urlparse, ParseResult"
   ]
  },
  {
   "cell_type": "code",
   "execution_count": 17,
   "metadata": {},
   "outputs": [],
   "source": [
    "x = urlparse('www.google.com')"
   ]
  },
  {
   "cell_type": "code",
   "execution_count": 22,
   "metadata": {},
   "outputs": [
    {
     "name": "stdout",
     "output_type": "stream",
     "text": [
      "170 ns ± 7.77 ns per loop (mean ± std. dev. of 7 runs, 1000000 loops each)\n"
     ]
    }
   ],
   "source": [
    "%timeit all((x.netloc, x.scheme))"
   ]
  },
  {
   "cell_type": "code",
   "execution_count": 19,
   "metadata": {},
   "outputs": [
    {
     "name": "stdout",
     "output_type": "stream",
     "text": [
      "45.7 ns ± 0.487 ns per loop (mean ± std. dev. of 7 runs, 10000000 loops each)\n"
     ]
    }
   ],
   "source": [
    "%timeit x.scheme"
   ]
  },
  {
   "cell_type": "code",
   "execution_count": 20,
   "metadata": {},
   "outputs": [
    {
     "name": "stdout",
     "output_type": "stream",
     "text": [
      "69.9 ns ± 3.15 ns per loop (mean ± std. dev. of 7 runs, 10000000 loops each)\n"
     ]
    }
   ],
   "source": [
    "%timeit isinstance(x, ParseResult)"
   ]
  },
  {
   "cell_type": "code",
   "execution_count": 2,
   "metadata": {},
   "outputs": [],
   "source": [
    "series_dict = {s.name: s for s in get_series()}\n",
    "conv_map = get_contains_map()"
   ]
  },
  {
   "cell_type": "code",
   "execution_count": 3,
   "metadata": {},
   "outputs": [
    {
     "data": {
      "text/plain": [
       "[{'type': URL,\n",
       "  'series': 'url_series',\n",
       "  'run count': 1000,\n",
       "  'average run time': 0.003435736683},\n",
       " {'type': URL,\n",
       "  'series': 'url_nan_series',\n",
       "  'run count': 1000,\n",
       "  'average run time': 0.0036911050150000005}]"
      ]
     },
     "execution_count": 3,
     "metadata": {},
     "output_type": "execute_result"
    }
   ],
   "source": [
    "from visions import URL, Path\n",
    "dtype = URL\n",
    "series_names = conv_map[dtype]\n",
    "test_series = {name: series_dict[name] for name in series_names}\n",
    "profile_type(dtype, test_series)"
   ]
  },
  {
   "cell_type": "code",
   "execution_count": 50,
   "metadata": {},
   "outputs": [
    {
     "name": "stdout",
     "output_type": "stream",
     "text": [
      "381 µs ± 18.1 µs per loop (mean ± std. dev. of 7 runs, 1000 loops each)\n"
     ]
    }
   ],
   "source": [
    "%timeit test_series['url_nan_series'] in URL"
   ]
  },
  {
   "cell_type": "code",
   "execution_count": 51,
   "metadata": {},
   "outputs": [
    {
     "data": {
      "text/plain": [
       "0.000381"
      ]
     },
     "execution_count": 51,
     "metadata": {},
     "output_type": "execute_result"
    }
   ],
   "source": [
    "381 * 10**-6"
   ]
  },
  {
   "cell_type": "code",
   "execution_count": 47,
   "metadata": {},
   "outputs": [
    {
     "data": {
      "text/plain": [
       "[{'type': Path,\n",
       "  'series': 'path_series_linux',\n",
       "  'run count': 1000,\n",
       "  'average run time': 7.1344300004057e-06},\n",
       " {'type': Path,\n",
       "  'series': 'path_series_windows',\n",
       "  'run count': 1000,\n",
       "  'average run time': 6.785698999919987e-06}]"
      ]
     },
     "execution_count": 47,
     "metadata": {},
     "output_type": "execute_result"
    }
   ],
   "source": [
    "dtype = Path\n",
    "series_names = conv_map[dtype]\n",
    "test_series = {name: series_dict[name] for name in series_names}\n",
    "profile_type(dtype, test_series)"
   ]
  },
  {
   "cell_type": "code",
   "execution_count": 4,
   "metadata": {},
   "outputs": [
    {
     "name": "stdout",
     "output_type": "stream",
     "text": [
      "[3.07896281e-03 1.84281717e-07]\n"
     ]
    },
    {
     "data": {
      "text/plain": [
       "(<big_o.complexities.Linear at 0x108cd2790>,\n",
       " {<big_o.complexities.Constant at 0x1156b5bb0>: 0.0022052618093613696,\n",
       "  <big_o.complexities.Linear at 0x108cd2790>: 4.520022168580061e-05,\n",
       "  <big_o.complexities.Quadratic at 0x1156c65e0>: 0.00029429681135796436,\n",
       "  <big_o.complexities.Cubic at 0x1156c68b0>: 0.0005304804517910956,\n",
       "  <big_o.complexities.Polynomial at 0x11576fca0>: 0.6575367575075384,\n",
       "  <big_o.complexities.Logarithmic at 0x11576fd90>: 0.0008666859053877144,\n",
       "  <big_o.complexities.Linearithmic at 0x11577eac0>: 6.026117609195123e-05,\n",
       "  <big_o.complexities.Exponential at 0x11577e4f0>: 4.870764031928511})"
      ]
     },
     "execution_count": 4,
     "metadata": {},
     "output_type": "execute_result"
    }
   ],
   "source": [
    "import big_o\n",
    "from visions import *\n",
    "import numpy as np\n",
    "import pandas as pd\n",
    "from ipaddress import IPv4Address\n",
    "from pathlib import PureWindowsPath, PurePosixPath\n",
    "import datetime\n",
    "\n",
    "max_n = 250000\n",
    "vals = ['1', '2']\n",
    "data = pd.Series(np.random.choice(vals, max_n))\n",
    "\n",
    "def data_gen(n):\n",
    "    return data[0:n]\n",
    "\n",
    "def test_func(x):\n",
    "    return x in String\n",
    "\n",
    "\n",
    "t = big_o.big_o(test_func, data_gen, max_n=max_n)\n",
    "print(t[0].coeff)\n",
    "t"
   ]
  },
  {
   "cell_type": "code",
   "execution_count": 8,
   "metadata": {},
   "outputs": [
    {
     "data": {
      "text/plain": [
       "big_o.complexities.Constant"
      ]
     },
     "execution_count": 8,
     "metadata": {},
     "output_type": "execute_result"
    }
   ],
   "source": [
    "Constant"
   ]
  },
  {
   "cell_type": "code",
   "execution_count": 6,
   "metadata": {},
   "outputs": [
    {
     "data": {
      "text/plain": [
       "(250000,)"
      ]
     },
     "execution_count": 6,
     "metadata": {},
     "output_type": "execute_result"
    }
   ],
   "source": [
    "data.shape"
   ]
  },
  {
   "cell_type": "code",
   "execution_count": 5,
   "metadata": {},
   "outputs": [
    {
     "data": {
      "text/plain": [
       "[<big_o.complexities.Constant at 0x1156b5bb0>,\n",
       " <big_o.complexities.Linear at 0x108cd2790>,\n",
       " <big_o.complexities.Logarithmic at 0x11576fd90>,\n",
       " <big_o.complexities.Linearithmic at 0x11577eac0>,\n",
       " <big_o.complexities.Quadratic at 0x1156c65e0>,\n",
       " <big_o.complexities.Cubic at 0x1156c68b0>,\n",
       " <big_o.complexities.Polynomial at 0x11576fca0>,\n",
       " <big_o.complexities.Exponential at 0x11577e4f0>]"
      ]
     },
     "execution_count": 5,
     "metadata": {},
     "output_type": "execute_result"
    }
   ],
   "source": [
    "f = list(t[1].keys())\n",
    "sorted(f)"
   ]
  },
  {
   "cell_type": "code",
   "execution_count": 1,
   "metadata": {},
   "outputs": [],
   "source": [
    "from big_o.complexities import *"
   ]
  },
  {
   "cell_type": "code",
   "execution_count": 3,
   "metadata": {},
   "outputs": [
    {
     "data": {
      "text/plain": [
       "False"
      ]
     },
     "execution_count": 3,
     "metadata": {},
     "output_type": "execute_result"
    }
   ],
   "source": [
    "Constant() > Linear()"
   ]
  },
  {
   "cell_type": "code",
   "execution_count": 3,
   "metadata": {},
   "outputs": [
    {
     "ename": "TypeError",
     "evalue": "unhashable type: 'Linear'",
     "output_type": "error",
     "traceback": [
      "\u001b[0;31m---------------------------------------------------------------------------\u001b[0m",
      "\u001b[0;31mTypeError\u001b[0m                                 Traceback (most recent call last)",
      "\u001b[0;32m<ipython-input-3-4f73513ba7eb>\u001b[0m in \u001b[0;36m<module>\u001b[0;34m\u001b[0m\n\u001b[0;32m----> 1\u001b[0;31m \u001b[0;34m{\u001b[0m\u001b[0mLinear\u001b[0m\u001b[0;34m(\u001b[0m\u001b[0;34m)\u001b[0m\u001b[0;34m:\u001b[0m \u001b[0;36m2\u001b[0m\u001b[0;34m}\u001b[0m\u001b[0;34m\u001b[0m\u001b[0;34m\u001b[0m\u001b[0m\n\u001b[0m",
      "\u001b[0;31mTypeError\u001b[0m: unhashable type: 'Linear'"
     ]
    }
   ],
   "source": [
    "{Linear(): 2}"
   ]
  },
  {
   "cell_type": "code",
   "execution_count": 4,
   "metadata": {},
   "outputs": [
    {
     "ename": "TypeError",
     "evalue": "unhashable type: 'Constant'",
     "output_type": "error",
     "traceback": [
      "\u001b[0;31m---------------------------------------------------------------------------\u001b[0m",
      "\u001b[0;31mTypeError\u001b[0m                                 Traceback (most recent call last)",
      "\u001b[0;32m<ipython-input-4-8b4ea628eea1>\u001b[0m in \u001b[0;36m<module>\u001b[0;34m\u001b[0m\n\u001b[0;32m----> 1\u001b[0;31m \u001b[0mhash\u001b[0m\u001b[0;34m(\u001b[0m\u001b[0mConstant\u001b[0m\u001b[0;34m(\u001b[0m\u001b[0;34m)\u001b[0m\u001b[0;34m)\u001b[0m\u001b[0;34m\u001b[0m\u001b[0;34m\u001b[0m\u001b[0m\n\u001b[0m",
      "\u001b[0;31mTypeError\u001b[0m: unhashable type: 'Constant'"
     ]
    }
   ],
   "source": [
    "hash(Constant())"
   ]
  },
  {
   "cell_type": "code",
   "execution_count": 15,
   "metadata": {},
   "outputs": [
    {
     "data": {
      "text/plain": [
       "1"
      ]
     },
     "execution_count": 15,
     "metadata": {},
     "output_type": "execute_result"
    }
   ],
   "source": [
    "Constant().order"
   ]
  },
  {
   "cell_type": "code",
   "execution_count": 6,
   "metadata": {},
   "outputs": [],
   "source": [
    "from tests.series import get_series, get_contains_map, infer_series_type_map, get_convert_map"
   ]
  },
  {
   "cell_type": "code",
   "execution_count": 25,
   "metadata": {},
   "outputs": [],
   "source": [
    "def get_relation(to_type, from_type):\n",
    "    return next(relation for relation in to_type.relations if relation.related_type is from_type)\n",
    "convert_map = get_convert_map()\n",
    "relation_tests = {get_relation(*conversions[0:2]): conversions[2] for conversions in convert_map}"
   ]
  },
  {
   "cell_type": "code",
   "execution_count": 26,
   "metadata": {},
   "outputs": [
    {
     "data": {
      "text/plain": [
       "{InferenceRelation(type=Integer, related_type=Float, transformer=<function to_int at 0x11d280790>, inferential=True, relationship=<function float_is_int at 0x11d280940>): ['int_nan_series',\n",
       "  'float_series2'],\n",
       " InferenceRelation(type=Complex, related_type=String, transformer=<function to_complex at 0x11d278430>, inferential=True, relationship=<function test_string_is_complex at 0x11d274ee0>): ['str_complex'],\n",
       " InferenceRelation(type=Float, related_type=String, transformer=<function string_to_float at 0x11d2781f0>, inferential=True, relationship=<function test_string_is_float at 0x11d278160>): ['string_flt',\n",
       "  'string_num_nan',\n",
       "  'string_num',\n",
       "  'string_flt_nan',\n",
       "  'textual_float',\n",
       "  'textual_float_nan',\n",
       "  'int_str_range'],\n",
       " InferenceRelation(type=DateTime, related_type=String, transformer=<function to_datetime at 0x11d278d30>, inferential=True, relationship=<function coercion_test.<locals>.f at 0x1116ec430>): ['timestamp_string_series',\n",
       "  'string_date'],\n",
       " InferenceRelation(type=Geometry, related_type=String, transformer=<function to_geometry at 0x11d2803a0>, inferential=True, relationship=<function string_is_geometry at 0x11d280280>): ['geometry_string_series'],\n",
       " InferenceRelation(type=Boolean, related_type=String, transformer=<function _get_relations.<locals>.<lambda> at 0x1116ec550>, inferential=True, relationship=<function _get_relations.<locals>.<lambda> at 0x1116ec4c0>): ['string_bool_nan'],\n",
       " InferenceRelation(type=IPAddress, related_type=String, transformer=<function to_ip at 0x11d280b80>, inferential=True, relationship=<function coercion_test.<locals>.f at 0x1116ec790>): ['ip_str'],\n",
       " InferenceRelation(type=URL, related_type=String, transformer=<function to_url at 0x11d2b90d0>, inferential=True, relationship=<function test_url at 0x11d2afee0>): ['str_url'],\n",
       " InferenceRelation(type=Path, related_type=String, transformer=<function to_path at 0x11d2af940>, inferential=True, relationship=<function string_is_path at 0x11d2af8b0>): ['path_series_windows_str',\n",
       "  'path_series_linux_str'],\n",
       " InferenceRelation(type=Float, related_type=Complex, transformer=<function suppress_warnings.<locals>.inner at 0x1116ec310>, inferential=True, relationship=<function _get_relations.<locals>.<lambda> at 0x1116ec280>): ['complex_series_float'],\n",
       " InferenceRelation(type=Boolean, related_type=Integer, transformer=<function to_bool at 0x11d274700>, inferential=True, relationship=<function _get_relations.<locals>.<lambda> at 0x1116ec5e0>): ['int_series_boolean'],\n",
       " InferenceRelation(type=Boolean, related_type=Object, transformer=<function to_bool at 0x11d274700>, inferential=True, relationship=<function _get_relations.<locals>.<lambda> at 0x1116ec670>): ['bool_nan_series'],\n",
       " InferenceRelation(type=UUID, related_type=String, transformer=<function to_uuid at 0x11d2b9430>, inferential=True, relationship=<function test_uuid at 0x11d2b93a0>): ['uuid_series_str']}"
      ]
     },
     "execution_count": 26,
     "metadata": {},
     "output_type": "execute_result"
    }
   ],
   "source": [
    "relation_tests"
   ]
  },
  {
   "cell_type": "code",
   "execution_count": 18,
   "metadata": {},
   "outputs": [
    {
     "data": {
      "text/plain": [
       "[(Integer, Float, ['int_nan_series', 'float_series2']),\n",
       " (Complex, String, ['str_complex']),\n",
       " (Float,\n",
       "  String,\n",
       "  ['string_flt',\n",
       "   'string_num_nan',\n",
       "   'string_num',\n",
       "   'string_flt_nan',\n",
       "   'textual_float',\n",
       "   'textual_float_nan',\n",
       "   'int_str_range']),\n",
       " (DateTime, String, ['timestamp_string_series', 'string_date']),\n",
       " (Geometry, String, ['geometry_string_series']),\n",
       " (Boolean, String, ['string_bool_nan']),\n",
       " (IPAddress, String, ['ip_str']),\n",
       " (URL, String, ['str_url']),\n",
       " (Path, String, ['path_series_windows_str', 'path_series_linux_str']),\n",
       " (Float, Complex, ['complex_series_float']),\n",
       " (Boolean, Integer, ['int_series_boolean']),\n",
       " (Boolean, Object, ['bool_nan_series']),\n",
       " (UUID, String, ['uuid_series_str'])]"
      ]
     },
     "execution_count": 18,
     "metadata": {},
     "output_type": "execute_result"
    }
   ],
   "source": [
    "convert_map"
   ]
  },
  {
   "cell_type": "code",
   "execution_count": 1,
   "metadata": {},
   "outputs": [],
   "source": [
    "import visions as vis\n",
    "import pandas as pd"
   ]
  },
  {
   "cell_type": "code",
   "execution_count": 2,
   "metadata": {},
   "outputs": [
    {
     "data": {
      "text/plain": [
       "String"
      ]
     },
     "execution_count": 2,
     "metadata": {},
     "output_type": "execute_result"
    }
   ],
   "source": [
    "s = pd.Series(['11111111111', ''])\n",
    "vis.functional.infer_series_type(s, vis.StandardSet())"
   ]
  },
  {
   "cell_type": "code",
   "execution_count": 9,
   "metadata": {},
   "outputs": [],
   "source": [
    "error_list = [ValueError, TypeError, AttributeError, SystemError]"
   ]
  },
  {
   "cell_type": "code",
   "execution_count": 10,
   "metadata": {},
   "outputs": [],
   "source": [
    "error_list.extend([OverflowError])"
   ]
  },
  {
   "cell_type": "code",
   "execution_count": 11,
   "metadata": {},
   "outputs": [
    {
     "data": {
      "text/plain": [
       "[ValueError, TypeError, AttributeError, SystemError, OverflowError]"
      ]
     },
     "execution_count": 11,
     "metadata": {},
     "output_type": "execute_result"
    }
   ],
   "source": [
    "error_list"
   ]
  },
  {
   "cell_type": "code",
   "execution_count": 14,
   "metadata": {},
   "outputs": [],
   "source": [
    "try:\n",
    "    raise OverflowError\n",
    "except tuple(error_list):\n",
    "    pass"
   ]
  },
  {
   "cell_type": "code",
   "execution_count": 3,
   "metadata": {},
   "outputs": [],
   "source": [
    "from big_o.complexities import ComplexityClass\n",
    "\n",
    "\n",
    "class FirstComplexity(ComplexityClass):\n",
    "    order = 1\n",
    "\n",
    "\n",
    "class SecondComplexity(ComplexityClass):\n",
    "    order = 2\n"
   ]
  },
  {
   "cell_type": "code",
   "execution_count": 5,
   "metadata": {},
   "outputs": [
    {
     "data": {
      "text/plain": [
       "True"
      ]
     },
     "execution_count": 5,
     "metadata": {},
     "output_type": "execute_result"
    }
   ],
   "source": [
    "FirstComplexity() < SecondComplexity()"
   ]
  },
  {
   "cell_type": "code",
   "execution_count": 2,
   "metadata": {},
   "outputs": [
    {
     "data": {
      "text/plain": [
       "True"
      ]
     },
     "execution_count": 2,
     "metadata": {},
     "output_type": "execute_result"
    }
   ],
   "source": [
    "import uuid\n",
    "import pandas as pd\n",
    "import numpy as np\n",
    "from visions import *\n",
    "import pandas.api.types as pdt\n",
    "import datetime\n",
    "s =  pd.Series([1, 2], dtype='object')\n",
    "\n",
    "pdt.is_string_dtype(pdt.CategoricalDtype())"
   ]
  },
  {
   "cell_type": "code",
   "execution_count": 8,
   "metadata": {},
   "outputs": [
    {
     "data": {
      "text/plain": [
       "False"
      ]
     },
     "execution_count": 8,
     "metadata": {},
     "output_type": "execute_result"
    }
   ],
   "source": [
    "s = pd.Series(['11111111111', ''], name=\"string_series_broke_date\")\n",
    "s in Integer"
   ]
  },
  {
   "cell_type": "code",
   "execution_count": 12,
   "metadata": {},
   "outputs": [],
   "source": [
    "G = CompleteSet().relation_graph"
   ]
  },
  {
   "cell_type": "code",
   "execution_count": 26,
   "metadata": {},
   "outputs": [
    {
     "data": {
      "text/plain": [
       "False"
      ]
     },
     "execution_count": 26,
     "metadata": {},
     "output_type": "execute_result"
    }
   ],
   "source": [
    "G[String][Float]['relationship'].is_relation(s)"
   ]
  },
  {
   "cell_type": "code",
   "execution_count": 10,
   "metadata": {},
   "outputs": [
    {
     "data": {
      "text/plain": [
       "[IdentityRelation(type=Integer, related_type=Generic, inferential=False, transformer=<function identity_relation at 0x1198fb040>, relationship=<bound method VisionsBaseTypeMeta.__contains__ of Integer>),\n",
       " InferenceRelation(type=Integer, related_type=Float, transformer=<function to_int at 0x11997aa60>, inferential=True, relationship=<function float_is_int at 0x11997ac10>)]"
      ]
     },
     "execution_count": 10,
     "metadata": {},
     "output_type": "execute_result"
    }
   ],
   "source": [
    "Integer.relations"
   ]
  },
  {
   "cell_type": "code",
   "execution_count": 3,
   "metadata": {},
   "outputs": [
    {
     "name": "stdout",
     "output_type": "stream",
     "text": [
      "9.58 µs ± 1.01 µs per loop (mean ± std. dev. of 7 runs, 100000 loops each)\n",
      "3 µs ± 260 ns per loop (mean ± std. dev. of 7 runs, 100000 loops each)\n"
     ]
    }
   ],
   "source": [
    "s = pd.Series(['a', 'b', 'c']*1000, dtype='string')\n",
    "%timeit pdt.is_string_dtype(s)\n",
    "%timeit pdt.is_object_dtype(s)"
   ]
  },
  {
   "cell_type": "code",
   "execution_count": 4,
   "metadata": {},
   "outputs": [
    {
     "name": "stdout",
     "output_type": "stream",
     "text": [
      "7.55 µs ± 446 ns per loop (mean ± std. dev. of 7 runs, 100000 loops each)\n",
      "2.53 µs ± 136 ns per loop (mean ± std. dev. of 7 runs, 100000 loops each)\n"
     ]
    }
   ],
   "source": [
    "s = pd.Series(['a', 'b', 'c']*1000)\n",
    "%timeit pdt.is_string_dtype(s)\n",
    "%timeit pdt.is_object_dtype(s)"
   ]
  },
  {
   "cell_type": "code",
   "execution_count": 8,
   "metadata": {},
   "outputs": [
    {
     "data": {
      "text/plain": [
       "True"
      ]
     },
     "execution_count": 8,
     "metadata": {},
     "output_type": "execute_result"
    }
   ],
   "source": [
    "pdt.is_string_dtype(pd.CategoricalDtype)"
   ]
  },
  {
   "cell_type": "code",
   "execution_count": 10,
   "metadata": {},
   "outputs": [
    {
     "data": {
      "text/plain": [
       "True"
      ]
     },
     "execution_count": 10,
     "metadata": {},
     "output_type": "execute_result"
    }
   ],
   "source": [
    "sample_size = 1\n",
    "all(isinstance(x, uuid.UUID) for x in s.head(sample_size))"
   ]
  },
  {
   "cell_type": "code",
   "execution_count": 11,
   "metadata": {},
   "outputs": [
    {
     "data": {
      "text/plain": [
       "False"
      ]
     },
     "execution_count": 11,
     "metadata": {},
     "output_type": "execute_result"
    }
   ],
   "source": [
    "attrs = [\"time_low\", \"hex\"]\n",
    "all(all(getattr(x, attr) for attr in attrs) for x in s)"
   ]
  },
  {
   "cell_type": "code",
   "execution_count": 14,
   "metadata": {},
   "outputs": [
    {
     "data": {
      "text/plain": [
       "False"
      ]
     },
     "execution_count": 14,
     "metadata": {},
     "output_type": "execute_result"
    }
   ],
   "source": [
    "all(getattr(s[2], attr) for attr in attrs)"
   ]
  },
  {
   "cell_type": "code",
   "execution_count": 16,
   "metadata": {},
   "outputs": [
    {
     "data": {
      "text/plain": [
       "'00000000000000000000000000000000'"
      ]
     },
     "execution_count": 16,
     "metadata": {},
     "output_type": "execute_result"
    }
   ],
   "source": [
    "s[2].hex"
   ]
  },
  {
   "cell_type": "code",
   "execution_count": 103,
   "metadata": {},
   "outputs": [],
   "source": [
    "flipper = {'1': '0', '0': '1'}\n",
    "alphabet = {i + 1: letter for i, letter in enumerate('abcdefghijklmnopqrstuvwxyz')}\n",
    "\n",
    "init_orient = '1010101010101010101010101'\n",
    "#init_orient = ''.join([flipper[v] for v in init_orient])\n",
    "fruit = '0011011010100000010000001'\n",
    "diamonds = '1000111111010100000000111'\n",
    "\n",
    "\n",
    "def flip(curr, cmd):\n",
    "    if cmd == '1':\n",
    "        return flipper[curr]\n",
    "    else: \n",
    "        return curr\n",
    "\n",
    "\n",
    "class spoons:\n",
    "    def __init__(self, init_orientation):\n",
    "        self.init_orientation = init_orientation\n",
    "        self._orientation = self.init_orientation\n",
    "\n",
    "    def flip(self, flips=25):\n",
    "        assert len(flips) == len(self._orientation)\n",
    "        self._orientation = [flip(curr, cmd) for curr, cmd in zip(self._orientation, flips)]\n",
    "    \n",
    "    def orientation(self, n, joiner=' '):\n",
    "        return joiner.join([''.join(self._orientation[i-n:i]) \n",
    "                         for i in range(n, len(self._orientation) + 1, n)])\n",
    "    \n",
    "    def translate(self, n):\n",
    "        return ''.join(alphabet[int(v, 2)] for v in self.orientation(n).split())"
   ]
  },
  {
   "cell_type": "code",
   "execution_count": null,
   "metadata": {},
   "outputs": [],
   "source": []
  },
  {
   "cell_type": "code",
   "execution_count": 104,
   "metadata": {},
   "outputs": [
    {
     "name": "stdout",
     "output_type": "stream",
     "text": [
      "10011 10000 00101 01110 10100 spent\n",
      "00010 01111 01111 01110 10011 boons\n"
     ]
    }
   ],
   "source": [
    "sp = spoons(init_orient)\n",
    "sp.flip(fruit)\n",
    "o1 = sp.orientation(5)\n",
    "print(o1, sp.translate(5))\n",
    "sp.flip(diamonds)\n",
    "o2 = sp.orientation(5)\n",
    "print(o2, sp.translate(5))"
   ]
  },
  {
   "cell_type": "code",
   "execution_count": 105,
   "metadata": {},
   "outputs": [
    {
     "data": {
      "text/plain": [
       "2"
      ]
     },
     "execution_count": 105,
     "metadata": {},
     "output_type": "execute_result"
    }
   ],
   "source": [
    "int('00010', 2)"
   ]
  },
  {
   "cell_type": "code",
   "execution_count": null,
   "metadata": {},
   "outputs": [],
   "source": [
    "bentspoons"
   ]
  }
 ],
 "metadata": {
  "kernelspec": {
   "display_name": "Python [conda env:visions] *",
   "language": "python",
   "name": "conda-env-visions-py"
  },
  "language_info": {
   "codemirror_mode": {
    "name": "ipython",
    "version": 3
   },
   "file_extension": ".py",
   "mimetype": "text/x-python",
   "name": "python",
   "nbconvert_exporter": "python",
   "pygments_lexer": "ipython3",
   "version": "3.8.0"
  }
 },
 "nbformat": 4,
 "nbformat_minor": 4
}
